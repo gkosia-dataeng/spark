{
 "cells": [
  {
   "cell_type": "code",
   "execution_count": null,
   "id": "9397951a-86c8-4d62-b370-14d387906cbe",
   "metadata": {},
   "outputs": [],
   "source": [
    "from lib.spark_session import get_spark_session\n",
    "\n",
    "\n",
    "spark  = get_spark_session(\"Create databases and tables\")\n",
    "\n",
    "\n",
    "spark"
   ]
  },
  {
   "cell_type": "code",
   "execution_count": null,
   "id": "e4eb77eb-5e10-4814-9603-9175533e1ac8",
   "metadata": {},
   "outputs": [],
   "source": [
    "spark.sql(\"create database if not exists bronze\")\n",
    "spark.sql(\"create database if not exists silver\")\n",
    "spark.sql(\"create database if not exists gold\")\n",
    "\n",
    "spark.sql(\"show databases\").show()"
   ]
  }
 ],
 "metadata": {
  "kernelspec": {
   "display_name": "Python 3 (ipykernel)",
   "language": "python",
   "name": "python3"
  },
  "language_info": {
   "codemirror_mode": {
    "name": "ipython",
    "version": 3
   },
   "file_extension": ".py",
   "mimetype": "text/x-python",
   "name": "python",
   "nbconvert_exporter": "python",
   "pygments_lexer": "ipython3",
   "version": "3.11.5"
  }
 },
 "nbformat": 4,
 "nbformat_minor": 5
}

{
 "cells": [
  {
   "cell_type": "code",
   "execution_count": 3,
   "id": "826edb11-2298-45ce-aec5-e1c5f533d89f",
   "metadata": {},
   "outputs": [
    {
     "data": {
      "text/html": [
       "\n",
       "            <div>\n",
       "                <p><b>SparkSession - hive</b></p>\n",
       "                \n",
       "        <div>\n",
       "            <p><b>SparkContext</b></p>\n",
       "\n",
       "            <p><a href=\"http://027656c3118c:4040\">Spark UI</a></p>\n",
       "\n",
       "            <dl>\n",
       "              <dt>Version</dt>\n",
       "                <dd><code>v3.4.1</code></dd>\n",
       "              <dt>Master</dt>\n",
       "                <dd><code>spark://172.23.0.5:7077</code></dd>\n",
       "              <dt>AppName</dt>\n",
       "                <dd><code>test cluster</code></dd>\n",
       "            </dl>\n",
       "        </div>\n",
       "        \n",
       "            </div>\n",
       "        "
      ],
      "text/plain": [
       "<pyspark.sql.session.SparkSession at 0x7f19ea0b0d10>"
      ]
     },
     "execution_count": 3,
     "metadata": {},
     "output_type": "execute_result"
    }
   ],
   "source": [
    "from pyspark.sql import SparkSession\n",
    "\n",
    "spark  = (\n",
    "        SparkSession.\n",
    "         builder.\n",
    "         appName(\"test cluster\").\n",
    "         master(\"spark://172.23.0.5:7077\").\n",
    "         enableHiveSupport(). \\\n",
    "         getOrCreate()     \n",
    ")\n",
    "\n",
    "spark"
   ]
  },
  {
   "cell_type": "code",
   "execution_count": 4,
   "id": "be9c9281-9b52-4971-be7a-a7a92bd8311d",
   "metadata": {},
   "outputs": [
    {
     "name": "stdout",
     "output_type": "stream",
     "text": [
      "+---------+\n",
      "|namespace|\n",
      "+---------+\n",
      "|   bronze|\n",
      "|  default|\n",
      "+---------+\n",
      "\n"
     ]
    }
   ],
   "source": [
    "spark.sql(\"show databases;\").show()"
   ]
  },
  {
   "cell_type": "code",
   "execution_count": 8,
   "id": "9bc2b110-ffd8-445b-82d2-1a6da32322c8",
   "metadata": {},
   "outputs": [
    {
     "name": "stdout",
     "output_type": "stream",
     "text": [
      "+---------+----------+-----------+\n",
      "|namespace| tableName|isTemporary|\n",
      "+---------+----------+-----------+\n",
      "|   bronze|test_table|      false|\n",
      "+---------+----------+-----------+\n",
      "\n"
     ]
    }
   ],
   "source": [
    "spark.sql(\"use bronze; \")\n",
    "\n",
    "spark.sql(\"show tables;\").show()\n"
   ]
  },
  {
   "cell_type": "code",
   "execution_count": 12,
   "id": "a6813ae8-d7a5-444b-8dbe-ee98cd887192",
   "metadata": {},
   "outputs": [
    {
     "name": "stdout",
     "output_type": "stream",
     "text": [
      "+----------------------------+-------------------------------------------------------------------------------------------------------------------+-------+\n",
      "|col_name                    |data_type                                                                                                          |comment|\n",
      "+----------------------------+-------------------------------------------------------------------------------------------------------------------+-------+\n",
      "|id                          |bigint                                                                                                             |null   |\n",
      "|name                        |string                                                                                                             |null   |\n",
      "|                            |                                                                                                                   |       |\n",
      "|# Detailed Table Information|                                                                                                                   |       |\n",
      "|Name                        |spark_catalog.bronze.test_table                                                                                    |       |\n",
      "|Type                        |MANAGED                                                                                                            |       |\n",
      "|Location                    |s3a://lakehouse/warehouse/bronze.db/test_table                                                                     |       |\n",
      "|Provider                    |delta                                                                                                              |       |\n",
      "|Owner                       |spark                                                                                                              |       |\n",
      "|Table Properties            |[delta.columnMapping.maxColumnId=2,delta.columnMapping.mode=name,delta.minReaderVersion=2,delta.minWriterVersion=5]|       |\n",
      "+----------------------------+-------------------------------------------------------------------------------------------------------------------+-------+\n",
      "\n"
     ]
    }
   ],
   "source": [
    "spark.sql(\"describe extended bronze.test_table;\").show(truncate=False)"
   ]
  },
  {
   "cell_type": "code",
   "execution_count": 13,
   "id": "f4b4ba0e-5f1e-4c08-a947-47c7e6f724b6",
   "metadata": {},
   "outputs": [
    {
     "name": "stdout",
     "output_type": "stream",
     "text": [
      "+---+----+\n",
      "| id|name|\n",
      "+---+----+\n",
      "|  2|  bb|\n",
      "|  1|  aa|\n",
      "+---+----+\n",
      "\n"
     ]
    }
   ],
   "source": [
    "spark.sql(\"select * from bronze.test_table\").show()"
   ]
  },
  {
   "cell_type": "code",
   "execution_count": null,
   "id": "5c789ce5-d19d-47df-a183-3d308ed251e7",
   "metadata": {},
   "outputs": [],
   "source": []
  }
 ],
 "metadata": {
  "kernelspec": {
   "display_name": "Python 3 (ipykernel)",
   "language": "python",
   "name": "python3"
  },
  "language_info": {
   "codemirror_mode": {
    "name": "ipython",
    "version": 3
   },
   "file_extension": ".py",
   "mimetype": "text/x-python",
   "name": "python",
   "nbconvert_exporter": "python",
   "pygments_lexer": "ipython3",
   "version": "3.11.5"
  }
 },
 "nbformat": 4,
 "nbformat_minor": 5
}

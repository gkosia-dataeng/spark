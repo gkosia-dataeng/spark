{
 "cells": [
  {
   "cell_type": "code",
   "execution_count": null,
   "id": "0234b0c7-48c2-43f3-8dec-c4f004b5a20e",
   "metadata": {
    "scrolled": true
   },
   "outputs": [],
   "source": [
    "from lib.session_builder import get_session_on_local\n",
    "\n",
    "spark = get_session_on_local(\"Explore DeltaLake\")\n",
    "\n",
    "spark"
   ]
  },
  {
   "cell_type": "code",
   "execution_count": null,
   "id": "7b6591c7-4baf-4b5f-a798-24478cc8cfd1",
   "metadata": {},
   "outputs": [],
   "source": [
    "from delta.tables import DeltaTable\n",
    "\n",
    "# get reference to the delta table using its name\n",
    "managed_delta_python = DeltaTable.forName(spark, \"gold.managed_delta_python\")\n",
    "\n",
    "# get reference to the delta table using its path\n",
    "managed_delta_sql_2 = DeltaTable.forPath(spark, \"/warehouse/gold.db/managed_delta_sql_2\")\n",
    "\n",
    "# check if is a delta table\n",
    "DeltaTable.isDeltaTable(spark, '/warehouse/gold.db/unmanaged_delta_sql')\n"
   ]
  },
  {
   "cell_type": "code",
   "execution_count": null,
   "id": "0ee9792e-4934-4f28-8500-8d7b905261c0",
   "metadata": {},
   "outputs": [],
   "source": [
    "# get histoty in python\n",
    "managed_delta_python.history().show(truncate=False)\n",
    "\n",
    "# get history of latest N commits in python\n",
    "managed_delta_python.history(1).show(truncate=False)\n",
    "\n"
   ]
  },
  {
   "cell_type": "code",
   "execution_count": null,
   "id": "32001a8e-3305-449a-aa6d-21c338cac166",
   "metadata": {},
   "outputs": [],
   "source": [
    "# get the history of table in sql\n",
    "spark.sql(\"DESCRIBE HISTORY gold.managed_delta_python\").show(truncate=False)\n",
    "\n",
    "# query table as of version or as of timestamp in sql\n",
    "spark.sql(\"SELECT * FROM gold.managed_delta_python VERSION AS OF 9\").show(truncate=False)\n",
    "\n",
    "spark.sql(\"SELECT * FROM gold.managed_delta_python TIMESTAMP AS OF '2024-05-28 12:13:00' \").show(truncate=False)\n",
    "\n",
    "# Restore to version in SQL\n",
    "spark.sql(\"RESTORE TABLE gold.managed_delta_python TO VERSION AS OF 9\")\n",
    "spark.sql(\"RESTORE TABLE gold.managed_delta_python TO TIMESTAMP AS OF '2024-05-28 12:13:00' \")\n"
   ]
  },
  {
   "cell_type": "code",
   "execution_count": null,
   "id": "108c81c5-6c0c-400b-aab2-c8000aff903e",
   "metadata": {},
   "outputs": [],
   "source": [
    "managed_delta_python.toDF().show(truncate=False)\n",
    "\n",
    "# restore the actual table to version\n",
    "managed_delta_python.restoreToVersion(9)\n",
    "\n",
    "# restore the actual table as of timestamp\n",
    "managed_delta_python.restoreToTimestamp('2024-05-28 12:13:00')\n",
    "\n",
    "\n",
    "managed_delta_python.toDF().show()"
   ]
  },
  {
   "cell_type": "code",
   "execution_count": null,
   "id": "18ba2c88-a888-4f20-a839-364361f9131a",
   "metadata": {},
   "outputs": [],
   "source": []
  },
  {
   "cell_type": "code",
   "execution_count": null,
   "id": "4f8bbdfe-b405-49f6-99b7-0905fea02d67",
   "metadata": {},
   "outputs": [],
   "source": []
  }
 ],
 "metadata": {
  "kernelspec": {
   "display_name": "Python 3 (ipykernel)",
   "language": "python",
   "name": "python3"
  },
  "language_info": {
   "codemirror_mode": {
    "name": "ipython",
    "version": 3
   },
   "file_extension": ".py",
   "mimetype": "text/x-python",
   "name": "python",
   "nbconvert_exporter": "python",
   "pygments_lexer": "ipython3",
   "version": "3.11.5"
  }
 },
 "nbformat": 4,
 "nbformat_minor": 5
}

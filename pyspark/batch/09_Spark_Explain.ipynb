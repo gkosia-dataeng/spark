{
 "cells": [
  {
   "cell_type": "code",
   "execution_count": null,
   "id": "c6e280cc-a1ef-4287-8908-5d728c9f7f33",
   "metadata": {},
   "outputs": [],
   "source": []
  },
  {
   "cell_type": "code",
   "execution_count": 2,
   "id": "3caf4579-9819-4042-8f8a-9c3f06ccf62c",
   "metadata": {},
   "outputs": [
    {
     "data": {
      "text/html": [
       "\n",
       "            <div>\n",
       "                <p><b>SparkSession - in-memory</b></p>\n",
       "                \n",
       "        <div>\n",
       "            <p><b>SparkContext</b></p>\n",
       "\n",
       "            <p><a href=\"http://6864e87c99a0:4040\">Spark UI</a></p>\n",
       "\n",
       "            <dl>\n",
       "              <dt>Version</dt>\n",
       "                <dd><code>v3.3.0</code></dd>\n",
       "              <dt>Master</dt>\n",
       "                <dd><code>local[*]</code></dd>\n",
       "              <dt>AppName</dt>\n",
       "                <dd><code>Reading from sockets</code></dd>\n",
       "            </dl>\n",
       "        </div>\n",
       "        \n",
       "            </div>\n",
       "        "
      ],
      "text/plain": [
       "<pyspark.sql.session.SparkSession at 0x7f7ee0439660>"
      ]
     },
     "execution_count": 2,
     "metadata": {},
     "output_type": "execute_result"
    }
   ],
   "source": [
    "from pyspark.sql import SparkSession\n",
    "\n",
    "spark = (\n",
    "    SparkSession\n",
    "    .builder\n",
    "    .appName(\"Reading from sockets\")\n",
    "    .master( \"local[*]\")\n",
    "    .getOrCreate()\n",
    ")\n",
    "\n",
    "spark"
   ]
  },
  {
   "cell_type": "code",
   "execution_count": 2,
   "id": "da8cbf31-03d8-4ff2-ba66-874683e1c875",
   "metadata": {},
   "outputs": [],
   "source": [
    "spark.conf.set(\"spark.sql.adaptive.enabled\",False)\n",
    "spark.conf.set(\"spark.sql.adaptive.coalescePartitions.enabled\",False)\n",
    "spark.conf.set(\"spark.sql.autoBroadcastJoinThreshold\",-1)"
   ]
  },
  {
   "cell_type": "code",
   "execution_count": 3,
   "id": "a24a20e8-c5f3-4fb4-856d-f50843a32bdc",
   "metadata": {},
   "outputs": [
    {
     "data": {
      "text/plain": [
       "16"
      ]
     },
     "execution_count": 3,
     "metadata": {},
     "output_type": "execute_result"
    }
   ],
   "source": [
    "spark.sparkContext.defaultParallelism"
   ]
  },
  {
   "cell_type": "code",
   "execution_count": 4,
   "id": "352af781-ab38-4a10-8678-377b8a568deb",
   "metadata": {},
   "outputs": [],
   "source": [
    "df_1 = spark.range(4,200,2)\n",
    "df_2 = spark.range(2,200,4)"
   ]
  },
  {
   "cell_type": "code",
   "execution_count": 5,
   "id": "15e82846-90f7-4f0a-ae8c-f25a39775e5d",
   "metadata": {},
   "outputs": [
    {
     "data": {
      "text/plain": [
       "16"
      ]
     },
     "execution_count": 5,
     "metadata": {},
     "output_type": "execute_result"
    }
   ],
   "source": [
    "df_1.rdd.getNumPartitions()\n",
    "df_2.rdd.getNumPartitions()"
   ]
  },
  {
   "cell_type": "code",
   "execution_count": 6,
   "id": "46169086-07c4-40db-b4cf-352a9c17ea7e",
   "metadata": {},
   "outputs": [],
   "source": [
    "df_3=  df_1.repartition(5)\n",
    "df_4=  df_2.repartition(7)"
   ]
  },
  {
   "cell_type": "code",
   "execution_count": 7,
   "id": "2f5e9369-92b6-42b9-b23b-1b89ae08acf3",
   "metadata": {},
   "outputs": [
    {
     "data": {
      "text/plain": [
       "5"
      ]
     },
     "metadata": {},
     "output_type": "display_data"
    },
    {
     "data": {
      "text/plain": [
       "7"
      ]
     },
     "execution_count": 7,
     "metadata": {},
     "output_type": "execute_result"
    }
   ],
   "source": [
    "display(df_3.rdd.getNumPartitions())\n",
    "df_4.rdd.getNumPartitions()"
   ]
  },
  {
   "cell_type": "code",
   "execution_count": 8,
   "id": "bfc0148b-601f-4667-811d-f1afca6bb886",
   "metadata": {},
   "outputs": [],
   "source": [
    "df_joined = df_3.join(df_4, on=\"id\")"
   ]
  },
  {
   "cell_type": "code",
   "execution_count": 9,
   "id": "7c5f6028-0ce5-4461-a1e0-900e8ea080cb",
   "metadata": {},
   "outputs": [],
   "source": [
    "df_sum = df_joined.selectExpr(\"sum(id) as total_sum\")"
   ]
  },
  {
   "cell_type": "code",
   "execution_count": 10,
   "id": "3098cd28-f550-4767-8b4f-ecf63cac98ed",
   "metadata": {},
   "outputs": [
    {
     "name": "stdout",
     "output_type": "stream",
     "text": [
      "+---------+\n",
      "|total_sum|\n",
      "+---------+\n",
      "|     4998|\n",
      "+---------+\n",
      "\n"
     ]
    }
   ],
   "source": [
    "df_sum.show()"
   ]
  },
  {
   "cell_type": "code",
   "execution_count": 11,
   "id": "ec8f9f5d-d89d-4836-8daf-4e3163f0f2cd",
   "metadata": {},
   "outputs": [
    {
     "name": "stdout",
     "output_type": "stream",
     "text": [
      "== Physical Plan ==\n",
      "*(6) HashAggregate(keys=[], functions=[sum(id#0L)])\n",
      "+- Exchange SinglePartition, ENSURE_REQUIREMENTS, [id=#182]\n",
      "   +- *(5) HashAggregate(keys=[], functions=[partial_sum(id#0L)])\n",
      "      +- *(5) Project [id#0L]\n",
      "         +- *(5) SortMergeJoin [id#0L], [id#2L], Inner\n",
      "            :- *(2) Sort [id#0L ASC NULLS FIRST], false, 0\n",
      "            :  +- Exchange hashpartitioning(id#0L, 200), ENSURE_REQUIREMENTS, [id=#166]\n",
      "            :     +- Exchange RoundRobinPartitioning(5), REPARTITION_BY_NUM, [id=#165]\n",
      "            :        +- *(1) Range (4, 200, step=2, splits=16)\n",
      "            +- *(4) Sort [id#2L ASC NULLS FIRST], false, 0\n",
      "               +- Exchange hashpartitioning(id#2L, 200), ENSURE_REQUIREMENTS, [id=#173]\n",
      "                  +- Exchange RoundRobinPartitioning(7), REPARTITION_BY_NUM, [id=#172]\n",
      "                     +- *(3) Range (2, 200, step=4, splits=16)\n",
      "\n",
      "\n"
     ]
    }
   ],
   "source": [
    "df_sum.explain()"
   ]
  },
  {
   "cell_type": "code",
   "execution_count": 12,
   "id": "81099c35-9fcf-414a-b5cc-a9deebde0c9d",
   "metadata": {},
   "outputs": [
    {
     "data": {
      "text/plain": [
       "'\\n    At each shuffle (end of stage) spark write the data and the next stage will read them\\n    If its not involed repartition or coalesce then at each shuffle will create n default shuffle partitions (200 default)\\n    In case of failure the job will take the data from the last stage shuffle write and continue the next steps\\n'"
      ]
     },
     "execution_count": 12,
     "metadata": {},
     "output_type": "execute_result"
    }
   ],
   "source": [
    "'''\n",
    "    At each shuffle (end of stage) spark write the data and the next stage will read them\n",
    "    If its not involed repartition or coalesce then at each shuffle will create n default shuffle partitions (200 default)\n",
    "    In case of failure the job will take the data from the last stage shuffle write and continue the next steps\n",
    "'''"
   ]
  },
  {
   "cell_type": "code",
   "execution_count": 13,
   "id": "1a9264c2-6f1c-4c83-bf1d-dd788f322878",
   "metadata": {},
   "outputs": [
    {
     "data": {
      "text/plain": [
       "MapPartitionsRDD[5] at javaToPython at NativeMethodAccessorImpl.java:0"
      ]
     },
     "execution_count": 13,
     "metadata": {},
     "output_type": "execute_result"
    }
   ],
   "source": [
    "# rdds\n",
    "\n",
    "df_1.rdd"
   ]
  },
  {
   "cell_type": "code",
   "execution_count": null,
   "id": "9becc800-4d59-4bf0-b97b-c0bcfe179c29",
   "metadata": {},
   "outputs": [],
   "source": []
  }
 ],
 "metadata": {
  "kernelspec": {
   "display_name": "Python 3 (ipykernel)",
   "language": "python",
   "name": "python3"
  },
  "language_info": {
   "codemirror_mode": {
    "name": "ipython",
    "version": 3
   },
   "file_extension": ".py",
   "mimetype": "text/x-python",
   "name": "python",
   "nbconvert_exporter": "python",
   "pygments_lexer": "ipython3",
   "version": "3.10.6"
  }
 },
 "nbformat": 4,
 "nbformat_minor": 5
}

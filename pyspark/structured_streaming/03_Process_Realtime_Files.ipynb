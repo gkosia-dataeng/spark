{
 "cells": [
  {
   "cell_type": "code",
   "execution_count": 1,
   "id": "15f4c190-3ea4-451f-aec4-efafa1df801b",
   "metadata": {},
   "outputs": [
    {
     "data": {
      "text/html": [
       "\n",
       "            <div>\n",
       "                <p><b>SparkSession - in-memory</b></p>\n",
       "                \n",
       "        <div>\n",
       "            <p><b>SparkContext</b></p>\n",
       "\n",
       "            <p><a href=\"http://7c1dcfae2d61:4041\">Spark UI</a></p>\n",
       "\n",
       "            <dl>\n",
       "              <dt>Version</dt>\n",
       "                <dd><code>v3.3.0</code></dd>\n",
       "              <dt>Master</dt>\n",
       "                <dd><code>local[*]</code></dd>\n",
       "              <dt>AppName</dt>\n",
       "                <dd><code>Reading from sockets</code></dd>\n",
       "            </dl>\n",
       "        </div>\n",
       "        \n",
       "            </div>\n",
       "        "
      ],
      "text/plain": [
       "<pyspark.sql.session.SparkSession at 0x7f90605da740>"
      ]
     },
     "execution_count": 1,
     "metadata": {},
     "output_type": "execute_result"
    }
   ],
   "source": [
    "from pyspark.sql import SparkSession\n",
    "\n",
    "spark = (\n",
    "    SparkSession\n",
    "    .builder\n",
    "    .appName(\"Reading from sockets\")\n",
    "    .master(\"local[*]\")\n",
    "    .config(\"spark.streaming.stopGracefullyOnShutdown\", True) # when close the stream make sure that all data on the fly they are processed and connections closed\n",
    "    .getOrCreate()\n",
    ")\n",
    "\n",
    "spark"
   ]
  },
  {
   "cell_type": "code",
   "execution_count": 2,
   "id": "637dfc3e-1171-4a60-a477-d746641632c5",
   "metadata": {},
   "outputs": [
    {
     "name": "stdout",
     "output_type": "stream",
     "text": [
      "root\n",
      " |-- customerId: string (nullable = true)\n",
      " |-- data: struct (nullable = true)\n",
      " |    |-- devices: array (nullable = true)\n",
      " |    |    |-- element: struct (containsNull = true)\n",
      " |    |    |    |-- deviceId: string (nullable = true)\n",
      " |    |    |    |-- measure: string (nullable = true)\n",
      " |    |    |    |-- status: string (nullable = true)\n",
      " |    |    |    |-- temperature: long (nullable = true)\n",
      " |-- eventId: string (nullable = true)\n",
      " |-- eventOffset: long (nullable = true)\n",
      " |-- eventPublisher: string (nullable = true)\n",
      " |-- eventTime: string (nullable = true)\n",
      "\n"
     ]
    }
   ],
   "source": [
    "input_path = \"/home/jovyan/data/input\"\n",
    "# set the conf to allo stream inference schema while reading\n",
    "spark.conf.set(\"spark.sql.streaming.schemaInference\", True)\n",
    "\n",
    "\n",
    "streaming_df = (\n",
    "    spark\n",
    "    .readStream\n",
    "    .option(\"cleanSource\", \"archive\") # archive or delete or dont set the optin: delete => delete file after process it, archive => move it to other folder \n",
    "    .option(\"sourceArchiveDir\", \"/home/jovyan/data/input_processed\") # if we set cleanSource to archive where to archive the processed files\n",
    "    .option(\"maxFilesPerTrigger\",1) # how many files to processed in each microbatch, by default will try to processed as much as possible\n",
    "    .format(\"json\")\n",
    "    .load(input_path)\n",
    ")\n",
    "\n",
    "streaming_df.printSchema()"
   ]
  },
  {
   "cell_type": "code",
   "execution_count": 3,
   "id": "b62d9fde-788f-46bd-9c18-fdafcbe43ea6",
   "metadata": {},
   "outputs": [],
   "source": [
    "from pyspark.sql.functions import explode, col\n",
    "\n",
    "streaming_df = streaming_df.withColumn(\"data_devices\", explode(\"data.devices\"))\n",
    "streaming_df_flatten = (\n",
    "    streaming_df.drop(\"data\")\n",
    "    .withColumn(\"deviceId\", col(\"data_devices.deviceId\"))\n",
    "    .withColumn(\"measure\", col(\"data_devices.measure\"))\n",
    "    .withColumn(\"status\", col(\"data_devices.status\"))\n",
    "    .withColumn(\"temperature\", col(\"data_devices.temperature\"))\n",
    "    .drop(\"data_devices\")\n",
    ")\n"
   ]
  },
  {
   "cell_type": "code",
   "execution_count": null,
   "id": "7bf01cca-0f28-47d4-8326-e03d88e45f5d",
   "metadata": {},
   "outputs": [],
   "source": [
    "''' \n",
    "    \n",
    "'''\n",
    "\n",
    "\n",
    "(\n",
    " streaming_df_flatten\n",
    " .writeStream.format(\"csv\")\n",
    " .outputMode(\"append\")\n",
    " .option(\"path\",\"/home/jovyan/data/output/output.device.csv\")\n",
    " .option(\"checkpointLocation\",\"/home/jovyan/data/checkpoint\")\n",
    " .start()\n",
    " .awaitTermination()\n",
    ")"
   ]
  },
  {
   "cell_type": "code",
   "execution_count": null,
   "id": "d1f971fc-c861-46ee-b2d1-dce2065f92db",
   "metadata": {},
   "outputs": [],
   "source": [
    "'''\n",
    "    Checkpoint:\n",
    "        \n",
    "        metadata file: store the id of streaming query that is running now\n",
    "                       if the checkpoint directory is removed a new checkpoint id will be created\n",
    "                       if a new job will resume from the existing checkpoint then the id will remain the same and a new run id will be created\n",
    "                       \n",
    "        sources folder: keep track the data has been consumed from stream in each batch (batch id)\n",
    "                        when we process a new file another file will be created with the details of the processed file\n",
    "                        \n",
    "        offset: keeps track what is been processed by stream\n",
    "                in case of consuming from kafka the offset of last message processed is here in logoffset property\n",
    "        \n",
    "        commits: it confirm from spark that the data readed from offset has been processed\n",
    "        \n",
    "        \n",
    "        Use sources to keep tract what saw from source\n",
    "        Once it read the data adding files in offset\n",
    "        Once processed the data adding files in commit\n",
    "        \n",
    "        If a file readed (included in sources) but not processed (not included in commit), if we put it again in the source location it will not read it again\n",
    "        If we want to process it again we shoult delete the record from sources files\n",
    "        OR\n",
    "        We can rename the file and add it again to the input folder\n",
    "                 \n",
    "'''"
   ]
  }
 ],
 "metadata": {
  "kernelspec": {
   "display_name": "Python 3 (ipykernel)",
   "language": "python",
   "name": "python3"
  },
  "language_info": {
   "codemirror_mode": {
    "name": "ipython",
    "version": 3
   },
   "file_extension": ".py",
   "mimetype": "text/x-python",
   "name": "python",
   "nbconvert_exporter": "python",
   "pygments_lexer": "ipython3",
   "version": "3.11.5"
  }
 },
 "nbformat": 4,
 "nbformat_minor": 5
}

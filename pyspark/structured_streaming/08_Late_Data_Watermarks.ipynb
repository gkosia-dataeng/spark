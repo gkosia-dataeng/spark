{
 "cells": [
  {
   "cell_type": "code",
   "execution_count": 1,
   "id": "51eaa57e-7330-4af1-9b1e-82d1bbf850d7",
   "metadata": {},
   "outputs": [
    {
     "data": {
      "text/html": [
       "\n",
       "            <div>\n",
       "                <p><b>SparkSession - in-memory</b></p>\n",
       "                \n",
       "        <div>\n",
       "            <p><b>SparkContext</b></p>\n",
       "\n",
       "            <p><a href=\"http://e6629c2ad701:4040\">Spark UI</a></p>\n",
       "\n",
       "            <dl>\n",
       "              <dt>Version</dt>\n",
       "                <dd><code>v3.4.1</code></dd>\n",
       "              <dt>Master</dt>\n",
       "                <dd><code>local[*]</code></dd>\n",
       "              <dt>AppName</dt>\n",
       "                <dd><code>Handle error and exceptions</code></dd>\n",
       "            </dl>\n",
       "        </div>\n",
       "        \n",
       "            </div>\n",
       "        "
      ],
      "text/plain": [
       "<pyspark.sql.session.SparkSession at 0x7f398775e790>"
      ]
     },
     "execution_count": 1,
     "metadata": {},
     "output_type": "execute_result"
    }
   ],
   "source": [
    "from pyspark.sql import SparkSession\n",
    "\n",
    "spark = (\n",
    "    SparkSession.\n",
    "    builder.\n",
    "    appName(\"Handle error and exceptions\").\n",
    "    config(\"spark.streaming.stopGracefullyOnShutdown\", True).\n",
    "    config('spark.jars.packages', 'org.apache.spark:spark-sql-kafka-0-10_2.12:3.3.0').\n",
    "    config(\"spark.shuffle.partitions\", 4).\n",
    "    master(\"local[*]\").\n",
    "    getOrCreate()\n",
    "    \n",
    ")\n",
    "\n",
    "spark"
   ]
  },
  {
   "cell_type": "code",
   "execution_count": 2,
   "id": "f8f266de-febe-4d3c-8a00-9a6d65999a23",
   "metadata": {},
   "outputs": [],
   "source": [
    "kafka_df = (\n",
    "    spark\n",
    "    .readStream\n",
    "    .format(\"kafka\")\n",
    "    .option(\"kafka.bootstrap.servers\", \"kafka:19092\")\n",
    "    .option(\"subscribe\", \"watermark-data\")\n",
    "    .option(\"startingOffsets\", \"earliest\")\n",
    "    .load()\n",
    ")"
   ]
  },
  {
   "cell_type": "code",
   "execution_count": 10,
   "id": "cb8d223a-4566-4407-b607-ebd829aedae2",
   "metadata": {},
   "outputs": [
    {
     "name": "stdout",
     "output_type": "stream",
     "text": [
      "root\n",
      " |-- event_time: string (nullable = true)\n",
      " |-- data: string (nullable = true)\n",
      "\n"
     ]
    }
   ],
   "source": [
    "from pyspark.sql.functions import expr, from_json, col\n",
    "\n",
    "json_schema = \"event_time string, data string\"\n",
    "kafka_df_flatten = (\n",
    "            kafka_df.\n",
    "            withColumn(\"message_as_string\", expr(\"cast(value as string)\")).\n",
    "            withColumn(\"message_value_as_json\", from_json(col(\"message_as_string\"), json_schema)).\n",
    "            select(\"message_value_as_json.event_time\", \"message_value_as_json.data\")\n",
    "    )\n",
    "\n",
    "\n",
    "kafka_df_flatten.printSchema()"
   ]
  },
  {
   "cell_type": "code",
   "execution_count": 14,
   "id": "5163b32a-e430-4f35-9a24-e4b34b4bfd1a",
   "metadata": {},
   "outputs": [
    {
     "name": "stdout",
     "output_type": "stream",
     "text": [
      "root\n",
      " |-- event_time_as_time: timestamp (nullable = true)\n",
      " |-- by_word: string (nullable = false)\n",
      "\n"
     ]
    }
   ],
   "source": [
    "from pyspark.sql.functions import split, explode, cast\n",
    "\n",
    "per_word_df = (\n",
    "                kafka_df_flatten.\n",
    "                withColumn(\"words_list\", split(\"data\", \" \")).\n",
    "                withColumn(\"by_word\",explode(\"words_list\")).\n",
    "                withColumn(\"event_time_as_time\", col(\"event_time\").cast(\"timestamp\")).\n",
    "                select(\"event_time_as_time\", \"by_word\")\n",
    "            )\n",
    "\n",
    "per_word_df.printSchema()"
   ]
  },
  {
   "cell_type": "code",
   "execution_count": 22,
   "id": "b4012849-a536-45ca-add7-712e85439e63",
   "metadata": {},
   "outputs": [
    {
     "name": "stdout",
     "output_type": "stream",
     "text": [
      "root\n",
      " |-- start: timestamp (nullable = true)\n",
      " |-- end: timestamp (nullable = true)\n",
      " |-- by_word: string (nullable = false)\n",
      " |-- cnt: long (nullable = false)\n",
      "\n"
     ]
    }
   ],
   "source": [
    "# Aggregate by watermark\n",
    "''' \n",
    "    Watermark time: how late can be an event\n",
    "                    Late events allowed are those were their Event time is > max(event_time_received) - watermark time\n",
    "                    The event that have event time prior of (max(event_time_received) - watermark time) are late and will be ignored\n",
    "    \n",
    "   window(\"event_time_as_time\", \"10 minutes\"): event time column, size of the window, sliding minutes of the window (not sliding if parameter not provided)\n",
    "'''\n",
    "\n",
    "from pyspark.sql.functions import window, count, lit\n",
    "\n",
    "\n",
    "df_agg = (\n",
    "            per_word_df.\n",
    "            withWatermark(\"event_time_as_time\", \"10 minutes\").\n",
    "            groupBy(window(\"event_time_as_time\", \"10 minutes\"), \"by_word\").\n",
    "            agg(count(lit(1)).alias(\"cnt\")).\n",
    "            select(\"window.start\", \"window.end\", \"by_word\", \"cnt\")\n",
    "        )\n",
    "df_agg.printSchema()"
   ]
  },
  {
   "cell_type": "code",
   "execution_count": 24,
   "id": "0439e3a8-b653-4628-92fa-c88ab1633c48",
   "metadata": {},
   "outputs": [
    {
     "data": {
      "text/plain": [
       "<pyspark.sql.streaming.query.StreamingQuery at 0x7f3a092ce210>"
      ]
     },
     "execution_count": 24,
     "metadata": {},
     "output_type": "execute_result"
    }
   ],
   "source": [
    "'''\n",
    "\n",
    "\n",
    "    writeStream.outputMode(\"complete\"): does not work with watermarks\n",
    "                                  complete mode will calculate the event in the window even if should be discurted based on watermark time\n",
    "                                  the spark keeps in-memory the whole dataset in order to output complete result\n",
    "    writeStream.outputMode(\"update\"): update mode take account the watermark time and works correct\n",
    "                                in update mode spark remove from its memory the watermarks that are not allowed to updated based on watermark time \n",
    "\n",
    "'''\n",
    "\n",
    "(\n",
    "    df_agg.\n",
    "    writeStream.\n",
    "    format(\"console\").\n",
    "    outputMode(\"complete\").\n",
    "    trigger(processingTime=\"10 seconds\").\n",
    "    option(\"checkpointLocation\", \"/home/jovyan/data/checkpoint_kafka/windows_complete\").\n",
    "    start()\n",
    ")\n",
    "\n",
    "(\n",
    "    df_agg.\n",
    "    writeStream.\n",
    "    format(\"console\").\n",
    "    outputMode(\"update\").\n",
    "    trigger(processingTime=\"10 seconds\").\n",
    "    option(\"checkpointLocation\", \"/home/jovyan/data/checkpoint_kafka/windows_update\").\n",
    "    start()\n",
    ")"
   ]
  }
 ],
 "metadata": {
  "kernelspec": {
   "display_name": "Python 3 (ipykernel)",
   "language": "python",
   "name": "python3"
  },
  "language_info": {
   "codemirror_mode": {
    "name": "ipython",
    "version": 3
   },
   "file_extension": ".py",
   "mimetype": "text/x-python",
   "name": "python",
   "nbconvert_exporter": "python",
   "pygments_lexer": "ipython3",
   "version": "3.11.5"
  }
 },
 "nbformat": 4,
 "nbformat_minor": 5
}

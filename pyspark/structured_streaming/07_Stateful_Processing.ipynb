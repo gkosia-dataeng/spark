{
 "cells": [
  {
   "cell_type": "code",
   "execution_count": null,
   "id": "8060ff98-0b91-4412-8cba-d0825b26b838",
   "metadata": {},
   "outputs": [],
   "source": [
    "'''\n",
    "    Processing time vs Event time:\n",
    "            Processing time: the time the message arrived to kafka\n",
    "            Event time: the time that the event generated\n",
    "\n",
    "    Late arrivign data: when for some reason the processing time if after the Event time and the event goes to next window of calculations\n",
    "\n",
    "\n",
    "    Stateful processing: \n",
    "        When we process the data based on event time spark need to hold the data to its memory\n",
    "        When a late arriving event comes spark needs to update that window based on event time\n",
    "\n",
    "        Stateful processing defines a timeout window that the spark will discart the late arriving events after X minutes of the window\n",
    "\n",
    "\n",
    "    Watermarks: \n",
    "        For each window spark will calculate an aggregated result\n",
    "        Becasue is not possible for spark to keep all its windows in its memory we are defining the Wattermak time\n",
    "        Wattermak time: N minutes\n",
    "                        it means that the spark will discart late arriving events that its event time is:\n",
    "                            before (Last message event time) - N minutes (Wattermak time)\n",
    "                            OR\n",
    "                            Only late arriving messages will be processed that have event time > ((Last message event time) - N minutes (Wattermak time))\n",
    "\n",
    "        Tumbling or fixed window:\n",
    "            We have fixed N minutes windows that are not overlapping\n",
    "            Split the time to windows of N minutes\n",
    "            \n",
    "        Sliding or Overlapping window:\n",
    "            A window has two parameters:\n",
    "                Sliding window: n minutes to move\n",
    "                Window time: window size (10 mins)\n",
    "\n",
    "                    w1: 0-10\n",
    "                    w2: 5-15\n",
    "                    w3: 10-20\n",
    "                    \n",
    "        Session window:\n",
    "            Session gab: N minutes\n",
    "\n",
    "            A session will start at the first event\n",
    "            The session will close if no message arrive after (last message event time) + Session gab\n",
    "            When messages are coming continuesly then the session expanded\n",
    "\n",
    "            A new session will begin when the (last message event time) + Session gab passed and a new message came\n",
    "\n",
    "'''"
   ]
  }
 ],
 "metadata": {
  "kernelspec": {
   "display_name": "Python 3 (ipykernel)",
   "language": "python",
   "name": "python3"
  },
  "language_info": {
   "codemirror_mode": {
    "name": "ipython",
    "version": 3
   },
   "file_extension": ".py",
   "mimetype": "text/x-python",
   "name": "python",
   "nbconvert_exporter": "python",
   "pygments_lexer": "ipython3",
   "version": "3.11.5"
  }
 },
 "nbformat": 4,
 "nbformat_minor": 5
}

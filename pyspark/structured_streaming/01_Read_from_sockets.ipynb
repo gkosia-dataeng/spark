{
 "cells": [
  {
   "cell_type": "code",
   "execution_count": 7,
   "id": "df4aecde-2898-4a91-9da3-13a96d8a7d11",
   "metadata": {},
   "outputs": [
    {
     "data": {
      "text/plain": [
       "'\\nInstall ncat in pyspark container to create a socket session\\n\\ndocker exec -it pyspark /bin/bash\\nsudo apt-get update\\n\\n# ncat will be used to open a websocted endpoint \\nsudo apt-get install ncat\\n\\n'"
      ]
     },
     "execution_count": 7,
     "metadata": {},
     "output_type": "execute_result"
    }
   ],
   "source": [
    "'''\n",
    "Install ncat in pyspark container to create a socket session\n",
    "\n",
    "docker exec -it pyspark /bin/bash\n",
    "sudo apt-get update\n",
    "\n",
    "# ncat will be used to open a websocted endpoint \n",
    "sudo apt-get install ncat\n",
    "\n",
    "# start socket session on port 9999\n",
    "ncat -l 9999\n",
    "\n",
    "'''"
   ]
  },
  {
   "cell_type": "code",
   "execution_count": 1,
   "id": "4590b40f-13c8-4c01-bcd7-1ad25f2e0c55",
   "metadata": {},
   "outputs": [
    {
     "data": {
      "text/html": [
       "\n",
       "            <div>\n",
       "                <p><b>SparkSession - in-memory</b></p>\n",
       "                \n",
       "        <div>\n",
       "            <p><b>SparkContext</b></p>\n",
       "\n",
       "            <p><a href=\"http://4469ff6f6ab7:4040\">Spark UI</a></p>\n",
       "\n",
       "            <dl>\n",
       "              <dt>Version</dt>\n",
       "                <dd><code>v3.3.0</code></dd>\n",
       "              <dt>Master</dt>\n",
       "                <dd><code>local[*]</code></dd>\n",
       "              <dt>AppName</dt>\n",
       "                <dd><code>Reading from sockets</code></dd>\n",
       "            </dl>\n",
       "        </div>\n",
       "        \n",
       "            </div>\n",
       "        "
      ],
      "text/plain": [
       "<pyspark.sql.session.SparkSession at 0x7fa4837e6830>"
      ]
     },
     "execution_count": 1,
     "metadata": {},
     "output_type": "execute_result"
    }
   ],
   "source": [
    "from pyspark.sql import SparkSession\n",
    "\n",
    "spark = (\n",
    "    SparkSession\n",
    "    .builder\n",
    "    .appName(\"Reading from sockets\")\n",
    "    .master(\"local[*]\")\n",
    "    .getOrCreate()\n",
    ")\n",
    "\n",
    "spark\n"
   ]
  },
  {
   "cell_type": "code",
   "execution_count": 2,
   "id": "47ce8582-9c24-4adb-8395-532b0de3a5dd",
   "metadata": {},
   "outputs": [
    {
     "name": "stdout",
     "output_type": "stream",
     "text": [
      "+--------------------+\n",
      "|               value|\n",
      "+--------------------+\n",
      "|Simon had a dog a...|\n",
      "+--------------------+\n",
      "\n",
      "+-----+----------+\n",
      "| word|word_count|\n",
      "+-----+----------+\n",
      "|  and|         2|\n",
      "|    a|         2|\n",
      "|  dog|         2|\n",
      "|  cat|         2|\n",
      "| used|         1|\n",
      "|  had|         1|\n",
      "| loce|         1|\n",
      "|Simon|         1|\n",
      "|  the|         1|\n",
      "|simon|         1|\n",
      "|   to|         1|\n",
      "+-----+----------+\n",
      "\n"
     ]
    }
   ],
   "source": [
    "# Write the logic as batch\n",
    "\n",
    "from pyspark.sql.functions import split, explode, count, col\n",
    "\n",
    "df  = spark.read.format(\"text\").load(\"../../data/simple_text.txt\")\n",
    "df.show()\n",
    "\n",
    "\n",
    "df_words= (\n",
    "             df\n",
    "            .withColumn(\"words\", split(\"value\",\" \"))\n",
    "            .withColumn(\"word\",explode(\"words\"))\n",
    "            .select(\"word\")\n",
    "            .groupBy(\"word\")\n",
    "            .agg(count(\"word\").alias(\"word_count\"))\n",
    "            .sort(col(\"word_count\").desc())\n",
    "          )\n",
    "                    \n",
    "df_words.show()"
   ]
  },
  {
   "cell_type": "code",
   "execution_count": null,
   "id": "1cb050f1-a806-44f0-afd7-9a452c184f16",
   "metadata": {},
   "outputs": [],
   "source": [
    "# Write the logic as streaming\n",
    "\n",
    "df_stream = spark.readStream.format(\"socket\").option(\"host\",\"localhost\").option(\"port\",\"9999\").load()\n",
    "\n",
    "\n",
    "df_stream_agg =  (\n",
    "                     df_stream\n",
    "                    .withColumn(\"words\", split(\"value\",\" \"))\n",
    "                    .withColumn(\"word\",explode(\"words\"))\n",
    "                    .select(\"word\")\n",
    "                    .groupBy(\"word\")\n",
    "                    .agg(count(\"word\").alias(\"word_count\"))\n",
    "                    .sort(col(\"word_count\").desc())\n",
    "                  )\n",
    "\n",
    "df_stream_agg.writeStream.format(\"console\").outputMode(\"complete\").start().awaitTermination()"
   ]
  }
 ],
 "metadata": {
  "kernelspec": {
   "display_name": "Python 3 (ipykernel)",
   "language": "python",
   "name": "python3"
  },
  "language_info": {
   "codemirror_mode": {
    "name": "ipython",
    "version": 3
   },
   "file_extension": ".py",
   "mimetype": "text/x-python",
   "name": "python",
   "nbconvert_exporter": "python",
   "pygments_lexer": "ipython3",
   "version": "3.10.6"
  }
 },
 "nbformat": 4,
 "nbformat_minor": 5
}

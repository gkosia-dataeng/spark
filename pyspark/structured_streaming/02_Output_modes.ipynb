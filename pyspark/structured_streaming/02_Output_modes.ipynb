{
 "cells": [
  {
   "cell_type": "code",
   "execution_count": 1,
   "id": "e66a9a01-b7ca-4c4d-8f8c-8fee571f1728",
   "metadata": {},
   "outputs": [
    {
     "data": {
      "text/html": [
       "\n",
       "            <div>\n",
       "                <p><b>SparkSession - in-memory</b></p>\n",
       "                \n",
       "        <div>\n",
       "            <p><b>SparkContext</b></p>\n",
       "\n",
       "            <p><a href=\"http://9a6c4d37ba39:4040\">Spark UI</a></p>\n",
       "\n",
       "            <dl>\n",
       "              <dt>Version</dt>\n",
       "                <dd><code>v3.3.0</code></dd>\n",
       "              <dt>Master</dt>\n",
       "                <dd><code>local[*]</code></dd>\n",
       "              <dt>AppName</dt>\n",
       "                <dd><code>Reading from sockets</code></dd>\n",
       "            </dl>\n",
       "        </div>\n",
       "        \n",
       "            </div>\n",
       "        "
      ],
      "text/plain": [
       "<pyspark.sql.session.SparkSession at 0x7fc5041e2830>"
      ]
     },
     "execution_count": 1,
     "metadata": {},
     "output_type": "execute_result"
    }
   ],
   "source": [
    "from pyspark.sql import SparkSession\n",
    "\n",
    "spark = (\n",
    "    SparkSession\n",
    "    .builder\n",
    "    .appName(\"Reading from sockets\")\n",
    "    .master(\"local[*]\")\n",
    "    .getOrCreate()\n",
    ")\n",
    "\n",
    "spark"
   ]
  },
  {
   "cell_type": "code",
   "execution_count": 2,
   "id": "5682f25c-85f7-4ab4-b4f2-1c140c914050",
   "metadata": {},
   "outputs": [
    {
     "name": "stdout",
     "output_type": "stream",
     "text": [
      "root\n",
      " |-- value: string (nullable = true)\n",
      "\n"
     ]
    }
   ],
   "source": [
    "# Start the stream on sokcet \n",
    "df_stream = spark.readStream.format(\"socket\").option(\"host\",\"localhost\").option(\"port\",\"9999\").load()\n",
    "\n",
    "df_stream.printSchema()"
   ]
  },
  {
   "cell_type": "code",
   "execution_count": null,
   "id": "55fd54a0-1413-4387-86c4-1a5ae5cfe9a1",
   "metadata": {},
   "outputs": [],
   "source": [
    "''' \n",
    "    Spark streaming executed as microbatch\n",
    "    At each microbatch spark will create a new job with tasks needed to execute the logic\n",
    "    \n",
    "    We can setup correct the spark.sql.shuffle.partitions to optimize the stream\n",
    "'''\n",
    "from pyspark.sql.functions import split, explode, count, col\n",
    "\n",
    "spark.conf.set(\"spark.sql.shuffle.partitions\", 16)\n",
    "df_stream_agg =  (\n",
    "                     df_stream\n",
    "                    .withColumn(\"words\", split(\"value\",\" \"))\n",
    "                    .withColumn(\"word\",explode(\"words\"))\n",
    "                    .select(\"word\")\n",
    "                    .groupBy(\"word\")\n",
    "                    .agg(count(\"word\").alias(\"word_count\"))\n",
    "                    .sort(col(\"word_count\").desc())\n",
    "                  )\n",
    "\n",
    "df_stream_agg.writeStream.format(\"console\").outputMode(\"complete\").start().awaitTermination()"
   ]
  },
  {
   "cell_type": "code",
   "execution_count": null,
   "id": "c50d7976-e800-422c-8b4c-3ae76ad19334",
   "metadata": {},
   "outputs": [],
   "source": [
    "'''\n",
    "        Output mode:\n",
    "            complete: in every microbatch output all results \n",
    "            update:   in every microbatch output only new records and records updated\n",
    "                      not all writeStream.format support update modes\n",
    "                      data lake, rdbms, console support update mode\n",
    "                      file does not support update mode\n",
    "                      \n",
    "            append:   for writeStream.format that does not support update \n",
    "                       \n",
    "'''"
   ]
  },
  {
   "cell_type": "code",
   "execution_count": null,
   "id": "0dc71bbb-589d-4c2d-ac5a-467a297fdec9",
   "metadata": {},
   "outputs": [],
   "source": []
  }
 ],
 "metadata": {
  "kernelspec": {
   "display_name": "Python 3 (ipykernel)",
   "language": "python",
   "name": "python3"
  },
  "language_info": {
   "codemirror_mode": {
    "name": "ipython",
    "version": 3
   },
   "file_extension": ".py",
   "mimetype": "text/x-python",
   "name": "python",
   "nbconvert_exporter": "python",
   "pygments_lexer": "ipython3",
   "version": "3.10.6"
  }
 },
 "nbformat": 4,
 "nbformat_minor": 5
}

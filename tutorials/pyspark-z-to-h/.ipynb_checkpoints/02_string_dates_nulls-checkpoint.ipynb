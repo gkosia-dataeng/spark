{
 "cells": [
  {
   "cell_type": "code",
   "execution_count": null,
   "id": "b335cf72-619e-44de-8ad3-cf0a93175bbc",
   "metadata": {},
   "outputs": [],
   "source": [
    "https://www.youtube.com/watch?v=X8sRgRQkLwQ&list=PL2IsFZBGM_IHCl9zhRVC1EXTomkEp_1zm&index=8"
   ]
  }
 ],
 "metadata": {
  "kernelspec": {
   "display_name": "Python 3 (ipykernel)",
   "language": "python",
   "name": "python3"
  },
  "language_info": {
   "codemirror_mode": {
    "name": "ipython",
    "version": 3
   },
   "file_extension": ".py",
   "mimetype": "text/x-python",
   "name": "python",
   "nbconvert_exporter": "python",
   "pygments_lexer": "ipython3",
   "version": "3.11.5"
  }
 },
 "nbformat": 4,
 "nbformat_minor": 5
}

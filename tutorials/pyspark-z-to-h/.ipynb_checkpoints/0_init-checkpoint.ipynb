{
 "cells": [
  {
   "cell_type": "code",
   "execution_count": null,
   "id": "397ba486-8850-43bb-b7ac-d9bf4cf9abdb",
   "metadata": {},
   "outputs": [],
   "source": [
    "# clone this to initialize a new file with session\n",
    "\n",
    "from pyspark.sql import SparkSession\n",
    "\n",
    "\n",
    "spark = SparkSession.builder.appName(\"00 SparkSession\").master(\"local[*]\").getOrCreate()\n",
    "\n",
    "data = [\n",
    "     [1, \"Gav\", 35]\n",
    "    ,[2, \"Zac\", 34]\n",
    "    ,[3, \"Hr\", 28]\n",
    "    ,[4, \"Mar\", 26]\n",
    "]\n",
    "\n",
    "schema = \"id int, name string, age int\"\n",
    "\n",
    "df_users = spark.createDataFrame(data, schema)\n",
    "\n",
    "df_users.show()\n"
   ]
  }
 ],
 "metadata": {
  "kernelspec": {
   "display_name": "Python 3 (ipykernel)",
   "language": "python",
   "name": "python3"
  },
  "language_info": {
   "codemirror_mode": {
    "name": "ipython",
    "version": 3
   },
   "file_extension": ".py",
   "mimetype": "text/x-python",
   "name": "python",
   "nbconvert_exporter": "python",
   "pygments_lexer": "ipython3",
   "version": "3.11.5"
  }
 },
 "nbformat": 4,
 "nbformat_minor": 5
}

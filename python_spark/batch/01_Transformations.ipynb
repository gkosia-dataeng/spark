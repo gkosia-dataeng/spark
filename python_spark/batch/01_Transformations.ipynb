{
 "cells": [
  {
   "cell_type": "code",
   "execution_count": 3,
   "id": "1cb2de89-69e5-4bd6-b0e4-3ac23737318f",
   "metadata": {},
   "outputs": [
    {
     "name": "stdout",
     "output_type": "stream",
     "text": [
      "root\n",
      " |-- employee_id: string (nullable = true)\n",
      " |-- department_id: string (nullable = true)\n",
      " |-- name: string (nullable = true)\n",
      " |-- age: string (nullable = true)\n",
      " |-- gender: string (nullable = true)\n",
      " |-- salary: string (nullable = true)\n",
      " |-- hire_date: string (nullable = true)\n",
      "\n",
      "root\n",
      " |-- department_id: string (nullable = true)\n",
      " |-- department_name: string (nullable = true)\n",
      " |-- city: string (nullable = true)\n",
      " |-- country: string (nullable = true)\n",
      " |-- budget: string (nullable = true)\n",
      "\n"
     ]
    }
   ],
   "source": [
    "run ./00_Load_Demo_Data.ipynb"
   ]
  },
  {
   "cell_type": "code",
   "execution_count": 4,
   "id": "6d0c50f6-89cd-419b-843e-f870d863c590",
   "metadata": {},
   "outputs": [
    {
     "data": {
      "text/plain": [
       "Column<'salary'>"
      ]
     },
     "execution_count": 4,
     "metadata": {},
     "output_type": "execute_result"
    }
   ],
   "source": [
    "from pyspark.sql.functions import col, expr\n",
    "\n",
    "# refere to a column\n",
    "emp.salary\n",
    "# or\n",
    "#mp[\"salary\"]"
   ]
  },
  {
   "cell_type": "code",
   "execution_count": 5,
   "id": "d0a901e5-78b2-4c58-b5f4-dda07183cd15",
   "metadata": {},
   "outputs": [
    {
     "data": {
      "text/plain": [
       "StructType([StructField('employee_id', StringType(), True), StructField('name', StringType(), True), StructField('age', IntegerType(), True), StructField('salary', StringType(), True)])"
      ]
     },
     "execution_count": 5,
     "metadata": {},
     "output_type": "execute_result"
    }
   ],
   "source": [
    "emp.select(col(\"employee_id\"), expr(\"name\"), expr(\"cast(age as int) as age\"), emp.salary).schema\n",
    "\n",
    "# or use selectxpr\n",
    "#emp.selectExpr(\"employee_id\",\"cast(age as int) as age\", \"salary\").schema"
   ]
  },
  {
   "cell_type": "code",
   "execution_count": 6,
   "id": "ba3cd1e1-f71c-4134-b8c7-85276cccf4a7",
   "metadata": {},
   "outputs": [
    {
     "data": {
      "text/plain": [
       "StructType([StructField('name', StringType(), True), StructField('age', IntegerType(), True)])"
      ]
     },
     "execution_count": 6,
     "metadata": {},
     "output_type": "execute_result"
    }
   ],
   "source": [
    "# schema string\n",
    "from pyspark.sql.types import _parse_datatype_string\n",
    "\n",
    "string_schema =\"name string, age int\"\n",
    "\n",
    "spark_schema = _parse_datatype_string(string_schema)\n",
    "spark_schema"
   ]
  },
  {
   "cell_type": "code",
   "execution_count": 7,
   "id": "250a8c74-eec1-41b1-87d7-e999df347ae5",
   "metadata": {},
   "outputs": [
    {
     "name": "stdout",
     "output_type": "stream",
     "text": [
      "+-----------+-------------+-------------+------+------+----------+-------+----------+--------------+\n",
      "|employee_id|department_id|         name|gender|salary| hire_date|    tax|new_gender|date_as_string|\n",
      "+-----------+-------------+-------------+------+------+----------+-------+----------+--------------+\n",
      "|        001|          101|     John Doe|  Male| 50000|2015-01-01|10000.0|         M|    01/01/2015|\n",
      "|        002|          101|   Jane Smith|Female| 45000|2016-02-15| 9000.0|         F|    15/02/2016|\n",
      "|        003|          102|    Bob Brown|  Male| 55000|2014-05-01|11000.0|         M|    01/05/2014|\n",
      "|        004|          102|    Alice Lee|Female| 48000|2017-09-30| 9600.0|         F|    30/09/2017|\n",
      "|        005|          103|    Jack Chan|  Male| 60000|2013-04-01|12000.0|         M|    01/04/2013|\n",
      "|        006|          103|    Jill Wong|Female| 52000|2018-07-01|10400.0|         F|    01/07/2018|\n",
      "|        007|          101|James Johnson|  Male| 70000|2012-03-15|14000.0|         M|    15/03/2012|\n",
      "+-----------+-------------+-------------+------+------+----------+-------+----------+--------------+\n",
      "\n"
     ]
    }
   ],
   "source": [
    "from pyspark.sql.functions import expr, cast, lit, when, date_format\n",
    "\n",
    "emp.select(col(\"salary\").cast(\"double\")).schema\n",
    "\n",
    "emp.withColumn(\"tax\", col(\"salary\") * 0.2) \\\n",
    "    .withColumn(\"One\", lit(1)) \\\n",
    "    .withColumnRenamed(\"One\", \"Col_One\") \\\n",
    "    .drop(\"Col_One\", \"age\") \\\n",
    "    .withColumn(\"new_gender\",  when(col(\"gender\") == \"Male\",'M') \\\n",
    "                              .when(col(\"gender\") == \"Female\",'F') \\\n",
    "                              .otherwise(None)) \\\n",
    "    .withColumn(\"date_as_string\", date_format(col(\"hire_date\"), \"dd/MM/yyyy\")) \\\n",
    "    .limit(7) \\\n",
    "    .show()"
   ]
  },
  {
   "cell_type": "code",
   "execution_count": 8,
   "id": "0ab10459-81f4-4d38-bd3a-a2995d459c3a",
   "metadata": {},
   "outputs": [
    {
     "name": "stdout",
     "output_type": "stream",
     "text": [
      "+-----------+-------------+----------+---+------+------+----------+--------+---+\n",
      "|employee_id|department_id|      name|age|gender|salary| hire_date|     tax|one|\n",
      "+-----------+-------------+----------+---+------+------+----------+--------+---+\n",
      "|        001|          101|  John Doe| 30|  Male| 50000|2015-01-01|100000.0|  1|\n",
      "|        002|          101|Jane Smith| 25|Female| 45000|2016-02-15| 90000.0|  1|\n",
      "|        003|          102| Bob Brown| 35|  Male| 55000|2014-05-01|110000.0|  1|\n",
      "|        004|          102| Alice Lee| 28|Female| 48000|2017-09-30| 96000.0|  1|\n",
      "|        005|          103| Jack Chan| 40|  Male| 60000|2013-04-01|120000.0|  1|\n",
      "+-----------+-------------+----------+---+------+------+----------+--------+---+\n",
      "only showing top 5 rows\n",
      "\n"
     ]
    }
   ],
   "source": [
    "# handle multiple columns transformations at once\n",
    "columns = {\n",
    "    'tax': col('salary') * 2,\n",
    "    'one': lit(1)\n",
    "}\n",
    "\n",
    "emp.withColumns(columns).show(5)"
   ]
  },
  {
   "cell_type": "code",
   "execution_count": 9,
   "id": "a23045e6-ed9c-43f4-a86e-1e9a96125bec",
   "metadata": {},
   "outputs": [
    {
     "name": "stdout",
     "output_type": "stream",
     "text": [
      "+-----------+-------------+-------------+---+------+------+----------+---------+---------------+\n",
      "|employee_id|department_id|         name|age|gender|salary| hire_date|maxSalary|HighestEmployee|\n",
      "+-----------+-------------+-------------+---+------+------+----------+---------+---------------+\n",
      "|        007|          101|James Johnson| 42|  Male| 70000|2012-03-15|    70000|              1|\n",
      "|        001|          101|     John Doe| 30|  Male| 50000|2015-01-01|    70000|              2|\n",
      "|        002|          101|   Jane Smith| 25|Female| 45000|2016-02-15|    70000|              3|\n",
      "+-----------+-------------+-------------+---+------+------+----------+---------+---------------+\n",
      "only showing top 3 rows\n",
      "\n"
     ]
    }
   ],
   "source": [
    "#Window functions\n",
    "\n",
    "from pyspark.sql.window import Window\n",
    "from pyspark.sql.functions import max,col,desc, row_number\n",
    "\n",
    "window_spec = Window.partitionBy(col(\"department_id\")).orderBy(col(\"salary\").desc())\n",
    "max_func = max(col(\"salary\")).over(window_spec)\n",
    "\n",
    "row_num_func = row_number().over(window_spec)\n",
    "\n",
    "emp.withColumn(\"maxSalary\", max_func) \\\n",
    "   .withColumn(\"HighestEmployee\", row_num_func) \\\n",
    "   .show(3)\n",
    "\n"
   ]
  },
  {
   "cell_type": "code",
   "execution_count": null,
   "id": "7c2e6914-e586-4c68-9c21-97304c49456a",
   "metadata": {},
   "outputs": [],
   "source": []
  }
 ],
 "metadata": {
  "kernelspec": {
   "display_name": "Python 3 (ipykernel)",
   "language": "python",
   "name": "python3"
  },
  "language_info": {
   "codemirror_mode": {
    "name": "ipython",
    "version": 3
   },
   "file_extension": ".py",
   "mimetype": "text/x-python",
   "name": "python",
   "nbconvert_exporter": "python",
   "pygments_lexer": "ipython3",
   "version": "3.10.6"
  }
 },
 "nbformat": 4,
 "nbformat_minor": 5
}

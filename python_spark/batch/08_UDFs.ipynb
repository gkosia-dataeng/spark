{
 "cells": [
  {
   "cell_type": "code",
   "execution_count": 1,
   "id": "4259279e-3982-44f5-aadf-1db61a21cd71",
   "metadata": {},
   "outputs": [
    {
     "name": "stdout",
     "output_type": "stream",
     "text": [
      "root\n",
      " |-- employee_id: string (nullable = true)\n",
      " |-- department_id: string (nullable = true)\n",
      " |-- name: string (nullable = true)\n",
      " |-- age: string (nullable = true)\n",
      " |-- gender: string (nullable = true)\n",
      " |-- salary: string (nullable = true)\n",
      " |-- hire_date: string (nullable = true)\n",
      "\n",
      "root\n",
      " |-- department_id: string (nullable = true)\n",
      " |-- department_name: string (nullable = true)\n",
      " |-- city: string (nullable = true)\n",
      " |-- country: string (nullable = true)\n",
      " |-- budget: string (nullable = true)\n",
      "\n"
     ]
    }
   ],
   "source": [
    "run ./00_Load_Demo_Data.ipynb"
   ]
  },
  {
   "cell_type": "code",
   "execution_count": 2,
   "id": "b5f78cd9-f250-4ec7-aac7-3e7053245ac7",
   "metadata": {},
   "outputs": [],
   "source": [
    "def bonus(salary):\n",
    "    return int(salary) * 0.1"
   ]
  },
  {
   "cell_type": "code",
   "execution_count": 3,
   "id": "5f277412-691e-4342-bed9-4cc3a905f1a7",
   "metadata": {},
   "outputs": [],
   "source": [
    "from pyspark.sql.functions import udf\n",
    "\n",
    "bonus_udf = udf(bonus)"
   ]
  },
  {
   "cell_type": "code",
   "execution_count": 4,
   "id": "e96b6bcf-0bd1-409f-8b6b-67bc93a581f1",
   "metadata": {},
   "outputs": [
    {
     "name": "stdout",
     "output_type": "stream",
     "text": [
      "+-----------+-------------+-------------+---+------+------+----------+------+\n",
      "|employee_id|department_id|         name|age|gender|salary| hire_date| bonus|\n",
      "+-----------+-------------+-------------+---+------+------+----------+------+\n",
      "|        001|          101|     John Doe| 30|  Male| 50000|2015-01-01|5000.0|\n",
      "|        002|          101|   Jane Smith| 25|Female| 45000|2016-02-15|4500.0|\n",
      "|        003|          102|    Bob Brown| 35|  Male| 55000|2014-05-01|5500.0|\n",
      "|        004|          102|    Alice Lee| 28|Female| 48000|2017-09-30|4800.0|\n",
      "|        005|          103|    Jack Chan| 40|  Male| 60000|2013-04-01|6000.0|\n",
      "|        006|          103|    Jill Wong| 32|Female| 52000|2018-07-01|5200.0|\n",
      "|        007|          101|James Johnson| 42|  Male| 70000|2012-03-15|7000.0|\n",
      "|        008|          102|     Kate Kim| 29|Female| 51000|2019-10-01|5100.0|\n",
      "|        009|          103|      Tom Tan| 33|  Male| 58000|2016-06-01|5800.0|\n",
      "|        010|          104|     Lisa Lee| 27|Female| 47000|2018-08-01|4700.0|\n",
      "|        011|          104|   David Park| 38|  Male| 65000|2015-11-01|6500.0|\n",
      "|        012|          105|   Susan Chen| 31|Female| 54000|2017-02-15|5400.0|\n",
      "|        013|          106|    Brian Kim| 45|  Male| 75000|2011-07-01|7500.0|\n",
      "|        014|          107|    Emily Lee| 26|Female| 46000|2019-01-01|4600.0|\n",
      "|        015|          106|  Michael Lee| 37|  Male| 63000|2014-09-30|6300.0|\n",
      "|        016|          107|  Kelly Zhang| 30|Female| 49000|2018-04-01|4900.0|\n",
      "|        017|          105|  George Wang| 34|  Male| 57000|2016-03-15|5700.0|\n",
      "|        018|          104|    Nancy Liu| 29|Female| 50000|2017-06-01|5000.0|\n",
      "|        019|          103|  Steven Chen| 36|  Male| 62000|2015-08-01|6200.0|\n",
      "|        020|          102|    Grace Kim| 32|Female| 53000|2018-11-01|5300.0|\n",
      "+-----------+-------------+-------------+---+------+------+----------+------+\n",
      "\n"
     ]
    }
   ],
   "source": [
    "emp.withColumn(\"bonus\", bonus_udf(\"salary\")).show()"
   ]
  },
  {
   "cell_type": "code",
   "execution_count": 5,
   "id": "5bfe619c-fbb3-46d9-8f34-0e9a31baf4cd",
   "metadata": {},
   "outputs": [
    {
     "name": "stdout",
     "output_type": "stream",
     "text": [
      "+-----------+-------------+-------------+---+------+------+----------+--------------+\n",
      "|employee_id|department_id|         name|age|gender|salary| hire_date|bonus_from_sql|\n",
      "+-----------+-------------+-------------+---+------+------+----------+--------------+\n",
      "|        001|          101|     John Doe| 30|  Male| 50000|2015-01-01|        5000.0|\n",
      "|        002|          101|   Jane Smith| 25|Female| 45000|2016-02-15|        4500.0|\n",
      "|        003|          102|    Bob Brown| 35|  Male| 55000|2014-05-01|        5500.0|\n",
      "|        004|          102|    Alice Lee| 28|Female| 48000|2017-09-30|        4800.0|\n",
      "|        005|          103|    Jack Chan| 40|  Male| 60000|2013-04-01|        6000.0|\n",
      "|        006|          103|    Jill Wong| 32|Female| 52000|2018-07-01|        5200.0|\n",
      "|        007|          101|James Johnson| 42|  Male| 70000|2012-03-15|        7000.0|\n",
      "|        008|          102|     Kate Kim| 29|Female| 51000|2019-10-01|        5100.0|\n",
      "|        009|          103|      Tom Tan| 33|  Male| 58000|2016-06-01|        5800.0|\n",
      "|        010|          104|     Lisa Lee| 27|Female| 47000|2018-08-01|        4700.0|\n",
      "|        011|          104|   David Park| 38|  Male| 65000|2015-11-01|        6500.0|\n",
      "|        012|          105|   Susan Chen| 31|Female| 54000|2017-02-15|        5400.0|\n",
      "|        013|          106|    Brian Kim| 45|  Male| 75000|2011-07-01|        7500.0|\n",
      "|        014|          107|    Emily Lee| 26|Female| 46000|2019-01-01|        4600.0|\n",
      "|        015|          106|  Michael Lee| 37|  Male| 63000|2014-09-30|        6300.0|\n",
      "|        016|          107|  Kelly Zhang| 30|Female| 49000|2018-04-01|        4900.0|\n",
      "|        017|          105|  George Wang| 34|  Male| 57000|2016-03-15|        5700.0|\n",
      "|        018|          104|    Nancy Liu| 29|Female| 50000|2017-06-01|        5000.0|\n",
      "|        019|          103|  Steven Chen| 36|  Male| 62000|2015-08-01|        6200.0|\n",
      "|        020|          102|    Grace Kim| 32|Female| 53000|2018-11-01|        5300.0|\n",
      "+-----------+-------------+-------------+---+------+------+----------+--------------+\n",
      "\n"
     ]
    }
   ],
   "source": [
    "'''\n",
    "        To use the udf from spark SQL i have to register it\n",
    "        spark.udf.register(name in sql, function name, return type)\n",
    "'''\n",
    "spark.udf.register(\"bonus_sql_udf\", bonus, \"double\")\n",
    "\n",
    "from pyspark.sql.functions import expr\n",
    "\n",
    "emp.withColumn(\"bonus_from_sql\", expr(\"bonus_sql_udf(salary)\")).show()"
   ]
  },
  {
   "cell_type": "code",
   "execution_count": null,
   "id": "a267953f-4376-4ec8-9d1a-f441f4ba32cf",
   "metadata": {},
   "outputs": [],
   "source": []
  }
 ],
 "metadata": {
  "kernelspec": {
   "display_name": "Python 3 (ipykernel)",
   "language": "python",
   "name": "python3"
  },
  "language_info": {
   "codemirror_mode": {
    "name": "ipython",
    "version": 3
   },
   "file_extension": ".py",
   "mimetype": "text/x-python",
   "name": "python",
   "nbconvert_exporter": "python",
   "pygments_lexer": "ipython3",
   "version": "3.10.6"
  }
 },
 "nbformat": 4,
 "nbformat_minor": 5
}

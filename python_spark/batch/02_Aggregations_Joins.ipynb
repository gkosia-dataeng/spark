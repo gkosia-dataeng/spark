{
 "cells": [
  {
   "cell_type": "code",
   "execution_count": 1,
   "id": "5765ab0e-dccd-4d15-8548-15d0a13cc2c3",
   "metadata": {},
   "outputs": [
    {
     "name": "stdout",
     "output_type": "stream",
     "text": [
      "root\n",
      " |-- employee_id: string (nullable = true)\n",
      " |-- department_id: string (nullable = true)\n",
      " |-- name: string (nullable = true)\n",
      " |-- age: string (nullable = true)\n",
      " |-- gender: string (nullable = true)\n",
      " |-- salary: string (nullable = true)\n",
      " |-- hire_date: string (nullable = true)\n",
      "\n",
      "root\n",
      " |-- department_id: string (nullable = true)\n",
      " |-- department_name: string (nullable = true)\n",
      " |-- city: string (nullable = true)\n",
      " |-- country: string (nullable = true)\n",
      " |-- budget: string (nullable = true)\n",
      "\n"
     ]
    }
   ],
   "source": [
    "run ./00_Load_Demo_Data.ipynb"
   ]
  },
  {
   "cell_type": "code",
   "execution_count": 8,
   "id": "13f2da11-e6fc-4ddb-ba61-1d37aa779a13",
   "metadata": {},
   "outputs": [
    {
     "name": "stdout",
     "output_type": "stream",
     "text": [
      "+-----------+---------------+------+\n",
      "|employee_id|department_name|salary|\n",
      "+-----------+---------------+------+\n",
      "|        003|      Marketing| 55000|\n",
      "|        004|      Marketing| 48000|\n",
      "|        008|      Marketing| 51000|\n",
      "|        020|      Marketing| 53000|\n",
      "+-----------+---------------+------+\n",
      "\n"
     ]
    }
   ],
   "source": [
    "# joins\n",
    "\n",
    "all_data = emp.alias(\"e\").join(dept.alias(\"d\"), how=\"inner\", on= (emp.department_id==dept.department_id) & (emp.department_id == \"102\"))\n",
    "\n",
    "all_data.select(\"e.employee_id\", \"d.department_name\", \"e.salary\").show(5)"
   ]
  },
  {
   "cell_type": "code",
   "execution_count": 11,
   "id": "71cf9738-c95a-49e3-b479-dffe61854ce4",
   "metadata": {},
   "outputs": [
    {
     "name": "stdout",
     "output_type": "stream",
     "text": [
      "+-------------+--------------+---------+\n",
      "|department_id|NumOfEmployees|totalCost|\n",
      "+-------------+--------------+---------+\n",
      "|          101|             3| 165000.0|\n",
      "|          102|             4| 207000.0|\n",
      "|          103|             4| 232000.0|\n",
      "|          104|             3| 162000.0|\n",
      "|          105|             2| 111000.0|\n",
      "|          106|             2| 138000.0|\n",
      "|          107|             2|  95000.0|\n",
      "+-------------+--------------+---------+\n",
      "\n"
     ]
    }
   ],
   "source": [
    "# aggregations\n",
    "from pyspark.sql.functions import count, sum\n",
    "\n",
    "(\n",
    "  emp\n",
    "  .groupBy(\"department_id\")\n",
    "  .agg(count(\"employee_id\").alias(\"NumOfEmployees\"), sum(\"salary\").alias(\"totalCost\"))\n",
    ").show()"
   ]
  }
 ],
 "metadata": {
  "kernelspec": {
   "display_name": "Python 3 (ipykernel)",
   "language": "python",
   "name": "python3"
  },
  "language_info": {
   "codemirror_mode": {
    "name": "ipython",
    "version": 3
   },
   "file_extension": ".py",
   "mimetype": "text/x-python",
   "name": "python",
   "nbconvert_exporter": "python",
   "pygments_lexer": "ipython3",
   "version": "3.10.6"
  }
 },
 "nbformat": 4,
 "nbformat_minor": 5
}

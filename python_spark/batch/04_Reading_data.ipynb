{
 "cells": [
  {
   "cell_type": "code",
   "execution_count": 1,
   "id": "c7bf60f0-2952-4295-be3a-3ba4c7eb50cb",
   "metadata": {},
   "outputs": [
    {
     "name": "stdout",
     "output_type": "stream",
     "text": [
      "root\n",
      " |-- employee_id: string (nullable = true)\n",
      " |-- department_id: string (nullable = true)\n",
      " |-- name: string (nullable = true)\n",
      " |-- age: string (nullable = true)\n",
      " |-- gender: string (nullable = true)\n",
      " |-- salary: string (nullable = true)\n",
      " |-- hire_date: string (nullable = true)\n",
      "\n",
      "root\n",
      " |-- department_id: string (nullable = true)\n",
      " |-- department_name: string (nullable = true)\n",
      " |-- city: string (nullable = true)\n",
      " |-- country: string (nullable = true)\n",
      " |-- budget: string (nullable = true)\n",
      "\n"
     ]
    }
   ],
   "source": [
    "run ./00_Load_Demo_Data.ipynb"
   ]
  },
  {
   "cell_type": "code",
   "execution_count": 9,
   "id": "c8fee792-87a9-4a00-a4bd-ce7224e593d6",
   "metadata": {},
   "outputs": [],
   "source": [
    "'''\n",
    "    On spark.read spark will run a job that will read the first row of the file to identify the number of column\n",
    "    option(\"header\",\"True\"): it will load the first row as headers, all data types will be string\n",
    "    option(\"inferSchema\",True): will trigger two jobs, one that will read the first rows and take as headers and the second will scan the data to identify the data types\n",
    "'''\n",
    "\n",
    "df = spark.read.format(\"csv\").option(\"header\",\"True\").option(\"inferSchema\",True).load(\"/home/jovyan/data/emp.csv\")"
   ]
  },
  {
   "cell_type": "code",
   "execution_count": 10,
   "id": "29ccc968-1d5d-4957-9a8b-d74e86ddd046",
   "metadata": {},
   "outputs": [
    {
     "name": "stdout",
     "output_type": "stream",
     "text": [
      "root\n",
      " |-- employee_id: integer (nullable = true)\n",
      " |-- department_id: integer (nullable = true)\n",
      " |-- name: string (nullable = true)\n",
      " |-- age: integer (nullable = true)\n",
      " |-- gender: string (nullable = true)\n",
      " |-- salary: integer (nullable = true)\n",
      " |-- hire_date: timestamp (nullable = true)\n",
      "\n"
     ]
    }
   ],
   "source": [
    "df.printSchema()"
   ]
  },
  {
   "cell_type": "code",
   "execution_count": 13,
   "id": "51580170-01a3-4127-b473-78f77929c66f",
   "metadata": {},
   "outputs": [],
   "source": [
    "schema = \"employee_id integer, department_id integer, name string, age integer, gender string, salary integer, hire_date timestamp\"\n",
    "\n",
    "df_schema = spark.read.format(\"csv\").schema(schema).option(\"header\",True).load(\"/home/jovyan/data/emp.csv\")\n"
   ]
  },
  {
   "cell_type": "code",
   "execution_count": 14,
   "id": "2cfcf53b-ecb0-48ef-bd79-2ba9e47a57fc",
   "metadata": {},
   "outputs": [
    {
     "name": "stdout",
     "output_type": "stream",
     "text": [
      "+-----------+-------------+-------------+---+------+------+-------------------+\n",
      "|employee_id|department_id|         name|age|gender|salary|          hire_date|\n",
      "+-----------+-------------+-------------+---+------+------+-------------------+\n",
      "|          1|          101|     John Doe| 30|  Male| 50000|2015-01-01 00:00:00|\n",
      "|          2|          101|   Jane Smith| 25|Female| 45000|2016-02-15 00:00:00|\n",
      "|          3|          102|    Bob Brown| 35|  Male| 55000|2014-05-01 00:00:00|\n",
      "|          4|          102|    Alice Lee| 28|Female| 48000|2017-09-30 00:00:00|\n",
      "|          5|          103|    Jack Chan| 40|  Male| 60000|2013-04-01 00:00:00|\n",
      "|          6|          103|    Jill Wong| 32|Female| 52000|2018-07-01 00:00:00|\n",
      "|          7|          101|James Johnson| 42|  Male| 70000|2012-03-15 00:00:00|\n",
      "|          8|          102|     Kate Kim| 29|Female| 51000|2019-10-01 00:00:00|\n",
      "|          9|          103|      Tom Tan| 33|  Male| 58000|2016-06-01 00:00:00|\n",
      "|         10|          104|     Lisa Lee| 27|Female| 47000|2018-08-01 00:00:00|\n",
      "|         11|          104|   David Park| 38|  Male| 65000|2015-11-01 00:00:00|\n",
      "|         12|          105|   Susan Chen| 31|Female| 54000|2017-02-15 00:00:00|\n",
      "|         13|          106|    Brian Kim| 45|  Male| 75000|2011-07-01 00:00:00|\n",
      "|         14|          107|    Emily Lee| 26|Female| 46000|2019-01-01 00:00:00|\n",
      "|         15|          106|  Michael Lee| 37|  Male| 63000|2014-09-30 00:00:00|\n",
      "|         16|          107|  Kelly Zhang| 30|Female| 49000|2018-04-01 00:00:00|\n",
      "|         17|          105|  George Wang| 34|  Male| 57000|2016-03-15 00:00:00|\n",
      "|         18|          104|    Nancy Liu| 29|Female| 50000|2017-06-01 00:00:00|\n",
      "|         19|          103|  Steven Chen| 36|  Male| 62000|2015-08-01 00:00:00|\n",
      "|         20|          102|    Grace Kim| 32|Female| 53000|2018-11-01 00:00:00|\n",
      "+-----------+-------------+-------------+---+------+------+-------------------+\n",
      "\n"
     ]
    }
   ],
   "source": [
    "df_schema.show()"
   ]
  },
  {
   "cell_type": "code",
   "execution_count": 20,
   "id": "440532a1-a3a2-4f5e-a80e-7993a73e0b11",
   "metadata": {},
   "outputs": [],
   "source": [
    "'''\n",
    "    Read mode: can be used only when we define a schema\n",
    "               PERMISSIVE (default), columnNameOfCorruptRecord: \n",
    "                                                                when row does not match the schema then it will place it into the column _corrupt_record\n",
    "                                                                _corrupt_record or columnNameOfCorruptRecord must exists in dataframe and read will fill it\n",
    "               DROPMALFORMED: will drop the row\n",
    "               FAILFAST: fail when find row that didnt match with the schema\n",
    "              \n",
    "               \n",
    "'''\n",
    "\n",
    "schema_modes = \"employee_id integer, department_id integer, name string, age integer, gender string, salary integer, hire_date timestamp, _corrupt_record string\"\n",
    "\n",
    "df_schema_modes = spark.read.format(\"csv\").schema(schema_modes).option(\"header\",True).load(\"/home/jovyan/data/emp_new.csv\")"
   ]
  },
  {
   "cell_type": "code",
   "execution_count": 21,
   "id": "fa7e81fb-f1c1-487f-b230-ae133fab764c",
   "metadata": {},
   "outputs": [
    {
     "name": "stdout",
     "output_type": "stream",
     "text": [
      "+-----------+-------------+-------------+---+------+------+-------------------+--------------------+\n",
      "|employee_id|department_id|         name|age|gender|salary|          hire_date|     _corrupt_record|\n",
      "+-----------+-------------+-------------+---+------+------+-------------------+--------------------+\n",
      "|          1|          101|     John Doe| 30|  Male| 50000|2015-01-01 00:00:00|                null|\n",
      "|          2|          101|   Jane Smith| 25|Female| 45000|2016-02-15 00:00:00|                null|\n",
      "|          3|          102|    Bob Brown| 35|  Male| 55000|2014-05-01 00:00:00|                null|\n",
      "|          4|          102|    Alice Lee| 28|Female| 48000|2017-09-30 00:00:00|                null|\n",
      "|          5|          103|    Jack Chan| 40|  Male| 60000|2013-04-01 00:00:00|                null|\n",
      "|          6|          103|    Jill Wong| 32|Female| 52000|2018-07-01 00:00:00|                null|\n",
      "|          7|          101|James Johnson| 42|  Male|  null|2012-03-15 00:00:00|007,101,James Joh...|\n",
      "|          8|          102|     Kate Kim| 29|Female| 51000|2019-10-01 00:00:00|                null|\n",
      "|          9|          103|      Tom Tan| 33|  Male| 58000|2016-06-01 00:00:00|                null|\n",
      "|         10|          104|     Lisa Lee| 27|Female| 47000|2018-08-01 00:00:00|                null|\n",
      "|         11|          104|   David Park| 38|  Male| 65000|               null|011,104,David Par...|\n",
      "|         12|          105|   Susan Chen| 31|Female| 54000|2017-02-15 00:00:00|                null|\n",
      "|         13|          106|    Brian Kim| 45|  Male| 75000|2011-07-01 00:00:00|                null|\n",
      "|         14|          107|    Emily Lee| 26|Female| 46000|2019-01-01 00:00:00|                null|\n",
      "|         15|          106|  Michael Lee| 37|  Male| 63000|2014-09-30 00:00:00|                null|\n",
      "|         16|          107|  Kelly Zhang| 30|Female| 49000|2018-04-01 00:00:00|                null|\n",
      "|         17|          105|  George Wang| 34|  Male| 57000|2016-03-15 00:00:00|                null|\n",
      "|         18|          104|    Nancy Liu| 29|Female| 50000|2017-06-01 00:00:00|                null|\n",
      "|         19|          103|  Steven Chen| 36|  Male| 62000|2015-08-01 00:00:00|                null|\n",
      "|         20|          102|    Grace Kim| 32|Female| 53000|2018-11-01 00:00:00|                null|\n",
      "+-----------+-------------+-------------+---+------+------+-------------------+--------------------+\n",
      "\n"
     ]
    }
   ],
   "source": [
    "df_schema_modes.show()"
   ]
  },
  {
   "cell_type": "code",
   "execution_count": 24,
   "id": "7c91c995-a832-4e1f-a783-2d8c86e7ddd3",
   "metadata": {},
   "outputs": [
    {
     "name": "stdout",
     "output_type": "stream",
     "text": [
      "+-----------+-------------+-------------+---+------+------+----------+\n",
      "|employee_id|department_id|         name|age|gender|salary| hire_date|\n",
      "+-----------+-------------+-------------+---+------+------+----------+\n",
      "|          1|          101|     John Doe| 30|  Male| 50000|2015-01-01|\n",
      "|          2|          101|   Jane Smith| 25|Female| 45000|2016-02-15|\n",
      "|          3|          102|    Bob Brown| 35|  Male| 55000|2014-05-01|\n",
      "|          4|          102|    Alice Lee| 28|Female| 48000|2017-09-30|\n",
      "|          5|          103|    Jack Chan| 40|  Male| 60000|2013-04-01|\n",
      "|          6|          103|    Jill Wong| 32|Female| 52000|2018-07-01|\n",
      "|          7|          101|James Johnson| 42|  Male|   Low|2012-03-15|\n",
      "|          8|          102|     Kate Kim| 29|Female| 51000|2019-10-01|\n",
      "|          9|          103|      Tom Tan| 33|  Male| 58000|2016-06-01|\n",
      "|         10|          104|     Lisa Lee| 27|Female| 47000|2018-08-01|\n",
      "|         11|          104|   David Park| 38|  Male| 65000|   no date|\n",
      "|         12|          105|   Susan Chen| 31|Female| 54000|2017-02-15|\n",
      "|         13|          106|    Brian Kim| 45|  Male| 75000|2011-07-01|\n",
      "|         14|          107|    Emily Lee| 26|Female| 46000|2019-01-01|\n",
      "|         15|          106|  Michael Lee| 37|  Male| 63000|2014-09-30|\n",
      "|         16|          107|  Kelly Zhang| 30|Female| 49000|2018-04-01|\n",
      "|         17|          105|  George Wang| 34|  Male| 57000|2016-03-15|\n",
      "|         18|          104|    Nancy Liu| 29|Female| 50000|2017-06-01|\n",
      "|         19|          103|  Steven Chen| 36|  Male| 62000|2015-08-01|\n",
      "|         20|          102|    Grace Kim| 32|Female| 53000|2018-11-01|\n",
      "+-----------+-------------+-------------+---+------+------+----------+\n",
      "\n"
     ]
    }
   ],
   "source": [
    "'''\n",
    "    Pass the options as dictionary\n",
    "'''\n",
    "\n",
    "_options = {\n",
    "     \"header\": \"true\"\n",
    "    ,\"inferSchema\": \"true\"\n",
    "    ,\"mode\": \"FALFAST\"\n",
    "}\n",
    "\n",
    "(spark.read.format(\"csv\").options(**_options).load(\"/home/jovyan/data/emp_new.csv\").show())"
   ]
  },
  {
   "cell_type": "code",
   "execution_count": null,
   "id": "7e141a55-f336-4aea-9746-031560b01c97",
   "metadata": {},
   "outputs": [],
   "source": []
  }
 ],
 "metadata": {
  "kernelspec": {
   "display_name": "Python 3 (ipykernel)",
   "language": "python",
   "name": "python3"
  },
  "language_info": {
   "codemirror_mode": {
    "name": "ipython",
    "version": 3
   },
   "file_extension": ".py",
   "mimetype": "text/x-python",
   "name": "python",
   "nbconvert_exporter": "python",
   "pygments_lexer": "ipython3",
   "version": "3.10.6"
  }
 },
 "nbformat": 4,
 "nbformat_minor": 5
}

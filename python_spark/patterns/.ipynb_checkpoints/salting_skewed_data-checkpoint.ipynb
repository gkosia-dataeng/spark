{
 "cells": [
  {
   "cell_type": "code",
   "execution_count": 1,
   "id": "40c2c535-efd4-47a3-92c5-0e25506620ca",
   "metadata": {},
   "outputs": [
    {
     "data": {
      "text/plain": [
       "'\\n    Data isnt evently distributed accross the executors\\n\\n    Salting: add a random prefix/suffix to key in order to spread records accross multiple partitions\\n'"
      ]
     },
     "execution_count": 1,
     "metadata": {},
     "output_type": "execute_result"
    }
   ],
   "source": [
    "'''\n",
    "    Data isnt evently distributed accross the executors\n",
    "\n",
    "    Salting: add a random prefix/suffix to key in order to spread records accross multiple partitions\n",
    "'''"
   ]
  },
  {
   "cell_type": "code",
   "execution_count": 2,
   "id": "a1a5e83f-57c8-42eb-9040-562d955e4431",
   "metadata": {},
   "outputs": [],
   "source": [
    "from common.session import get_spark_session\n",
    "\n",
    "spark = get_spark_session('Data skewed')"
   ]
  },
  {
   "cell_type": "code",
   "execution_count": 15,
   "id": "fee6d0b7-be31-4c84-838d-33057728e396",
   "metadata": {},
   "outputs": [
    {
     "name": "stdout",
     "output_type": "stream",
     "text": [
      "+-------+-------------+\n",
      "|user_id|total_records|\n",
      "+-------+-------------+\n",
      "|      A|          100|\n",
      "|      B|            4|\n",
      "|      C|            4|\n",
      "+-------+-------------+\n",
      "\n"
     ]
    }
   ],
   "source": [
    "sales_data = [('A',i) for i in range(0,100)] + \\\n",
    "    [('B',i) for i in range(1,5)] + \\\n",
    "    [('C',i) for i in range(1,5)]  \\\n",
    "\n",
    "\n",
    "sales_cols = [\"user_id\",\"amount\"]\n",
    "\n",
    "df_sales = spark.createDataFrame(sales_data, sales_cols)\n",
    "\n",
    "from pyspark.sql.functions import count\n",
    "df_sales.groupBy(\"user_id\").agg(count(\"user_id\").alias(\"total_records\")).show()"
   ]
  },
  {
   "cell_type": "code",
   "execution_count": 16,
   "id": "cd8e99d8-d729-4a3b-ab83-898265081f7a",
   "metadata": {},
   "outputs": [
    {
     "name": "stdout",
     "output_type": "stream",
     "text": [
      "+-------+------+----+----------+\n",
      "|user_id|amount|salt|salted_key|\n",
      "+-------+------+----+----------+\n",
      "|      A|     1|   1|       A_1|\n",
      "|      A|     2|   8|       A_8|\n",
      "|      A|     3|   1|       A_1|\n",
      "|      A|     4|   5|       A_5|\n",
      "|      A|     5|   3|       A_3|\n",
      "|      A|     6|   8|       A_8|\n",
      "|      A|     7|   3|       A_3|\n",
      "|      A|     8|   4|       A_4|\n",
      "|      A|     9|   8|       A_8|\n",
      "|      A|    10|   3|       A_3|\n",
      "|      A|    11|   5|       A_5|\n",
      "|      A|    12|   3|       A_3|\n",
      "|      A|    13|   1|       A_1|\n",
      "|      A|    14|   9|       A_9|\n",
      "|      A|    15|   4|       A_4|\n",
      "|      A|    16|   7|       A_7|\n",
      "|      A|    17|   4|       A_4|\n",
      "|      A|    18|   3|       A_3|\n",
      "|      A|    19|   9|       A_9|\n",
      "|      A|    20|   2|       A_2|\n",
      "+-------+------+----+----------+\n",
      "only showing top 20 rows\n",
      "\n"
     ]
    }
   ],
   "source": [
    "# salting\n",
    "from pyspark.sql.functions import expr, concat_ws\n",
    "\n",
    "df_sales_salted = df.withColumn(\"salt\", expr(\"floor(rand() * 10)\")).withColumn(\"salted_key\", concat_ws(\"_\", \"user_id\", \"salt\"))\n",
    "df_sales_salted.show()\n",
    "\n"
   ]
  },
  {
   "cell_type": "code",
   "execution_count": 17,
   "id": "7d273dcc-118d-40c1-9c00-9bd36a46ca0b",
   "metadata": {},
   "outputs": [
    {
     "name": "stdout",
     "output_type": "stream",
     "text": [
      "+----------+-------------+\n",
      "|salted_key|total_records|\n",
      "+----------+-------------+\n",
      "|       A_4|           11|\n",
      "|       A_7|            6|\n",
      "|       A_0|            9|\n",
      "|       A_6|            9|\n",
      "|       A_3|           12|\n",
      "|       A_1|           16|\n",
      "|       A_5|           10|\n",
      "|       A_9|            9|\n",
      "|       A_2|            9|\n",
      "|       A_8|            8|\n",
      "|       C_1|            1|\n",
      "|       B_6|            1|\n",
      "|       B_9|            1|\n",
      "|       C_3|            1|\n",
      "|       B_2|            1|\n",
      "|       B_0|            1|\n",
      "|       C_6|            1|\n",
      "|       C_7|            1|\n",
      "+----------+-------------+\n",
      "\n"
     ]
    }
   ],
   "source": [
    "df_salted.groupBy(\"salted_key\").agg(count(\"user_id\").alias(\"total_records\")).show()"
   ]
  },
  {
   "cell_type": "code",
   "execution_count": null,
   "id": "3dcf72a0-bead-4e0d-b6c6-71aa37afac15",
   "metadata": {},
   "outputs": [],
   "source": []
  }
 ],
 "metadata": {
  "kernelspec": {
   "display_name": "Python 3 (ipykernel)",
   "language": "python",
   "name": "python3"
  },
  "language_info": {
   "codemirror_mode": {
    "name": "ipython",
    "version": 3
   },
   "file_extension": ".py",
   "mimetype": "text/x-python",
   "name": "python",
   "nbconvert_exporter": "python",
   "pygments_lexer": "ipython3",
   "version": "3.11.5"
  }
 },
 "nbformat": 4,
 "nbformat_minor": 5
}

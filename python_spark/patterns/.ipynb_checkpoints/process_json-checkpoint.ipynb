{
 "cells": [
  {
   "cell_type": "code",
   "execution_count": 2,
   "id": "e3ce40c2-fbd1-4921-a688-2c0b62081345",
   "metadata": {},
   "outputs": [],
   "source": [
    "from common.session import get_spark_session\n",
    "\n",
    "spark = get_spark_session('Process json')\n",
    "\n",
    "json_txt = '{\"Institute_Name\":\"ABC_Coaching_Center\",\"Course_type\":\"Best_seller\",\"branches\":[{\"State\":\"Maharashtra\",\"City\":\"Mumbai\",\"address\":\"XYZ\"},{\"State\":\"Gujrat\",\"City\":\"Surat\",\"address\":\"PQRX\"}],\"Head_Office_Contact\":8787878787}'"
   ]
  },
  {
   "cell_type": "code",
   "execution_count": 4,
   "id": "4a3fba57-9968-41a2-8f0c-145e61fe6349",
   "metadata": {},
   "outputs": [
    {
     "name": "stdout",
     "output_type": "stream",
     "text": [
      "+-----------+-------------------+-------------------+---------------------------------------------------+\n",
      "|Course_type|Head_Office_Contact|Institute_Name     |branches                                           |\n",
      "+-----------+-------------------+-------------------+---------------------------------------------------+\n",
      "|Best_seller|8787878787         |ABC_Coaching_Center|[{Mumbai, Maharashtra, XYZ}, {Surat, Gujrat, PQRX}]|\n",
      "+-----------+-------------------+-------------------+---------------------------------------------------+\n",
      "\n",
      "root\n",
      " |-- Course_type: string (nullable = true)\n",
      " |-- Head_Office_Contact: long (nullable = true)\n",
      " |-- Institute_Name: string (nullable = true)\n",
      " |-- branches: array (nullable = true)\n",
      " |    |-- element: struct (containsNull = true)\n",
      " |    |    |-- City: string (nullable = true)\n",
      " |    |    |-- State: string (nullable = true)\n",
      " |    |    |-- address: string (nullable = true)\n",
      "\n"
     ]
    }
   ],
   "source": [
    "# convert variable to rdd\n",
    "rdd = spark.sparkContext.parallelize([json_txt])\n",
    "\n",
    "# load to dataframe as json data type (will identify the 1st level keys as columns, nested objects will be array or struct)\n",
    "df_json = spark.read.json(rdd)\n",
    "df_json.show(truncate=False)\n",
    "df_json.printSchema()"
   ]
  },
  {
   "cell_type": "code",
   "execution_count": 5,
   "id": "4927e5a2-6689-4e89-bfdb-b549d86fd145",
   "metadata": {},
   "outputs": [
    {
     "name": "stdout",
     "output_type": "stream",
     "text": [
      "+-----------+-------------------+-------------------+--------------------------+\n",
      "|Course_type|Head_Office_Contact|Institute_Name     |branche                   |\n",
      "+-----------+-------------------+-------------------+--------------------------+\n",
      "|Best_seller|8787878787         |ABC_Coaching_Center|{Mumbai, Maharashtra, XYZ}|\n",
      "|Best_seller|8787878787         |ABC_Coaching_Center|{Surat, Gujrat, PQRX}     |\n",
      "+-----------+-------------------+-------------------+--------------------------+\n",
      "\n",
      "root\n",
      " |-- Course_type: string (nullable = true)\n",
      " |-- Head_Office_Contact: long (nullable = true)\n",
      " |-- Institute_Name: string (nullable = true)\n",
      " |-- branche: struct (nullable = true)\n",
      " |    |-- City: string (nullable = true)\n",
      " |    |-- State: string (nullable = true)\n",
      " |    |-- address: string (nullable = true)\n",
      "\n"
     ]
    }
   ],
   "source": [
    "# array column\n",
    "# explode: create a row with each item of the array column\n",
    "\n",
    "\n",
    "from pyspark.sql.functions import explode, col\n",
    "\n",
    "df_json_exploded = df_json.select(\"Course_type\", \"Head_Office_Contact\", \"Institute_Name\", explode(col(\"branches\")).alias('branche'))\n",
    "df_json_exploded.show(truncate=False)\n",
    "df_json_exploded.printSchema()"
   ]
  },
  {
   "cell_type": "code",
   "execution_count": 6,
   "id": "e919a126-69b2-4b6f-a6ea-c80095961482",
   "metadata": {},
   "outputs": [
    {
     "name": "stdout",
     "output_type": "stream",
     "text": [
      "+-----------+-------------------+-------------------+-------+\n",
      "|Course_type|Head_Office_Contact|     Institute_Name|address|\n",
      "+-----------+-------------------+-------------------+-------+\n",
      "|Best_seller|         8787878787|ABC_Coaching_Center|    XYZ|\n",
      "|Best_seller|         8787878787|ABC_Coaching_Center|   PQRX|\n",
      "+-----------+-------------------+-------------------+-------+\n",
      "\n",
      "+-----------+------+-----------+-------+\n",
      "|       type|  City|      State|address|\n",
      "+-----------+------+-----------+-------+\n",
      "|Best_seller|Mumbai|Maharashtra|    XYZ|\n",
      "|Best_seller| Surat|     Gujrat|   PQRX|\n",
      "+-----------+------+-----------+-------+\n",
      "\n"
     ]
    }
   ],
   "source": [
    "# struct column\n",
    "# . or .*: branche.key to generate a new column or branche.* to generate all columns\n",
    "df_json_exploded.select(\"Course_type\", \"Head_Office_Contact\", \"Institute_Name\", \"branche.address\").show()\n",
    "df_json_exploded.selectExpr(\"Course_type as type\", \"branche.*\").show()"
   ]
  },
  {
   "cell_type": "code",
   "execution_count": 7,
   "id": "53d53c76-f206-4d3f-966f-3c04df2e18bb",
   "metadata": {},
   "outputs": [
    {
     "name": "stdout",
     "output_type": "stream",
     "text": [
      "+-----------------------------------------------------------------------------------------------------------------------------------------------------------------------------------------------------------------------------+\n",
      "|json_as_text                                                                                                                                                                                                                 |\n",
      "+-----------------------------------------------------------------------------------------------------------------------------------------------------------------------------------------------------------------------------+\n",
      "|{\"Institute_Name\":\"ABC_Coaching_Center\",\"Course_type\":\"Best_seller\",\"branches\":[{\"State\":\"Maharashtra\",\"City\":\"Mumbai\",\"address\":\"XYZ\"},{\"State\":\"Gujrat\",\"City\":\"Surat\",\"address\":\"PQRX\"}],\"Head_Office_Contact\":8787878787}|\n",
      "+-----------------------------------------------------------------------------------------------------------------------------------------------------------------------------------------------------------------------------+\n",
      "\n",
      "root\n",
      " |-- json_as_text: string (nullable = true)\n",
      "\n"
     ]
    }
   ],
   "source": [
    "# process json when its a string data type\n",
    "df_json_as_text = spark.createDataFrame([(json_txt,)], [\"json_as_text\"])\n",
    "df_json_as_text.show(truncate=False)\n",
    "df_json_as_text.printSchema()\n"
   ]
  },
  {
   "cell_type": "code",
   "execution_count": 8,
   "id": "f32e74ff-d4bd-474d-b9a3-21e6d1114ab8",
   "metadata": {},
   "outputs": [
    {
     "name": "stdout",
     "output_type": "stream",
     "text": [
      "root\n",
      " |-- json_as_text: string (nullable = true)\n",
      " |-- json_as_struct: struct (nullable = true)\n",
      " |    |-- Course_type: string (nullable = true)\n",
      " |    |-- Head_Office_Contact: long (nullable = true)\n",
      " |    |-- Institute_Name: string (nullable = true)\n",
      " |    |-- branches: array (nullable = true)\n",
      " |    |    |-- element: struct (containsNull = true)\n",
      " |    |    |    |-- City: string (nullable = true)\n",
      " |    |    |    |-- State: string (nullable = true)\n",
      " |    |    |    |-- address: string (nullable = true)\n",
      " |-- schema: string (nullable = false)\n",
      "\n",
      "+-----------------------------------------------------------------------------------------------------------------------------------------------------------------------------------------------------------------------------+---------------------------------------------------------------------------------------------------+-------------------------------------------------------------------------------------------------------------------------------------------------------+\n",
      "|json_as_text                                                                                                                                                                                                                 |json_as_struct                                                                                     |schema                                                                                                                                                 |\n",
      "+-----------------------------------------------------------------------------------------------------------------------------------------------------------------------------------------------------------------------------+---------------------------------------------------------------------------------------------------+-------------------------------------------------------------------------------------------------------------------------------------------------------+\n",
      "|{\"Institute_Name\":\"ABC_Coaching_Center\",\"Course_type\":\"Best_seller\",\"branches\":[{\"State\":\"Maharashtra\",\"City\":\"Mumbai\",\"address\":\"XYZ\"},{\"State\":\"Gujrat\",\"City\":\"Surat\",\"address\":\"PQRX\"}],\"Head_Office_Contact\":8787878787}|{Best_seller, 8787878787, ABC_Coaching_Center, [{Mumbai, Maharashtra, XYZ}, {Surat, Gujrat, PQRX}]}|STRUCT<Course_type: STRING, Head_Office_Contact: BIGINT, Institute_Name: STRING, branches: ARRAY<STRUCT<City: STRING, State: STRING, address: STRING>>>|\n",
      "+-----------------------------------------------------------------------------------------------------------------------------------------------------------------------------------------------------------------------------+---------------------------------------------------------------------------------------------------+-------------------------------------------------------------------------------------------------------------------------------------------------------+\n",
      "\n",
      "+--------------------+--------------------+--------------------+--------------------------+\n",
      "|        json_as_text|      json_as_struct|              schema|info_using_get_json_object|\n",
      "+--------------------+--------------------+--------------------+--------------------------+\n",
      "|{\"Institute_Name\"...|{Best_seller, 878...|STRUCT<Course_typ...|               Maharashtra|\n",
      "+--------------------+--------------------+--------------------+--------------------------+\n",
      "\n"
     ]
    }
   ],
   "source": [
    "'''\n",
    "    from_json: convert a column that contains JSON as string to Struct type based on a json schema\n",
    "    schema_of_json: return the schema of json sample as string\n",
    "    get_json_object: extract an information from JSON string using the path\n",
    "'''\n",
    "\n",
    "from pyspark.sql.functions import from_json, schema_of_json, get_json_object\n",
    "\n",
    "df_json_as_struct = df_json_as_text.withColumn(\"json_as_struct\", from_json(\"json_as_text\", schema_of_json(json_txt)))\n",
    "df_json_as_struct = df_json_as_struct.withColumn(\"schema\", schema_of_json(json_txt))\n",
    "df_json_as_struct.printSchema()\n",
    "df_json_as_struct.show(truncate=False)\n",
    "df_json_as_struct.withColumn(\"info_using_get_json_object\", get_json_object(\"json_as_text\", \"$.branches[0].State\")).show()"
   ]
  },
  {
   "cell_type": "code",
   "execution_count": null,
   "id": "9c1d3fda-a6f9-4bc3-a077-08308cc1b84d",
   "metadata": {},
   "outputs": [],
   "source": []
  }
 ],
 "metadata": {
  "kernelspec": {
   "display_name": "Python 3 (ipykernel)",
   "language": "python",
   "name": "python3"
  },
  "language_info": {
   "codemirror_mode": {
    "name": "ipython",
    "version": 3
   },
   "file_extension": ".py",
   "mimetype": "text/x-python",
   "name": "python",
   "nbconvert_exporter": "python",
   "pygments_lexer": "ipython3",
   "version": "3.11.5"
  }
 },
 "nbformat": 4,
 "nbformat_minor": 5
}

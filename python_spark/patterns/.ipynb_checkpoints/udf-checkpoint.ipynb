{
 "cells": [
  {
   "cell_type": "code",
   "execution_count": 1,
   "id": "200731ff-cec0-4fec-a11f-b232622e5978",
   "metadata": {},
   "outputs": [
    {
     "data": {
      "text/plain": [
       "'\\n    Udfs used to extend the Spark with custom function\\n    When passing a UDF the data serized/deserialize to run in Python row by row\\n\\n    pandas UDFs are recomended to improve the performance\\n'"
      ]
     },
     "execution_count": 1,
     "metadata": {},
     "output_type": "execute_result"
    }
   ],
   "source": [
    "'''\n",
    "    Udfs used to extend the Spark with custom function\n",
    "    When passing a UDF the data serized/deserialize to run in Python row by row\n",
    "\n",
    "    pandas UDFs are recomended to improve the performance\n",
    "'''"
   ]
  },
  {
   "cell_type": "code",
   "execution_count": 11,
   "id": "ef00420d-f54c-4c39-89a2-e59121fcea89",
   "metadata": {},
   "outputs": [],
   "source": [
    "from common.session import get_spark_session\n",
    "\n",
    "spark = get_spark_session('UDFs')"
   ]
  },
  {
   "cell_type": "code",
   "execution_count": 18,
   "id": "d2a4868d-6efa-47e1-a563-29e23c5731c0",
   "metadata": {},
   "outputs": [
    {
     "name": "stdout",
     "output_type": "stream",
     "text": [
      "+--------+------------------+\n",
      "|a_number|after_do_something|\n",
      "+--------+------------------+\n",
      "|       1|                 2|\n",
      "|       2|                 3|\n",
      "|       3|                 4|\n",
      "|       4|                 5|\n",
      "|       5|                 6|\n",
      "+--------+------------------+\n",
      "\n"
     ]
    }
   ],
   "source": [
    "def calculate_something(a_number):\n",
    "    return a_number + 1\n",
    "\n",
    "\n",
    "from pyspark.sql.functions import udf, col\n",
    "from pyspark.sql.types import IntegerType\n",
    "\n",
    "do_something_udf = udf(calculate_something, IntegerType())\n",
    "\n",
    "\n",
    "rdd = spark.sparkContext.parallelize([(1,), (2,), (3,), (4,),(5,)])\n",
    "\n",
    "df = spark.createDataFrame(rdd, \"a_number integer\")\n",
    "\n",
    "df.withColumn(\"after_do_something\", do_something_udf(col(\"a_number\"))).show()"
   ]
  }
 ],
 "metadata": {
  "kernelspec": {
   "display_name": "Python 3 (ipykernel)",
   "language": "python",
   "name": "python3"
  },
  "language_info": {
   "codemirror_mode": {
    "name": "ipython",
    "version": 3
   },
   "file_extension": ".py",
   "mimetype": "text/x-python",
   "name": "python",
   "nbconvert_exporter": "python",
   "pygments_lexer": "ipython3",
   "version": "3.11.5"
  }
 },
 "nbformat": 4,
 "nbformat_minor": 5
}

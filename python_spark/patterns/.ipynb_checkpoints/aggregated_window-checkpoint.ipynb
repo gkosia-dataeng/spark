{
 "cells": [
  {
   "cell_type": "code",
   "execution_count": 1,
   "id": "6c834ef1-c368-4d04-8456-dccfd07fdea1",
   "metadata": {},
   "outputs": [],
   "source": [
    "from common.session import get_spark_session\n",
    "\n",
    "spark = get_spark_session('Aggregated window')"
   ]
  },
  {
   "cell_type": "code",
   "execution_count": 7,
   "id": "02c1d33c-fa3b-4667-8cd1-d8941f543ba3",
   "metadata": {},
   "outputs": [
    {
     "name": "stdout",
     "output_type": "stream",
     "text": [
      "+-------+-------------------+------+\n",
      "|user_id|               time|amount|\n",
      "+-------+-------------------+------+\n",
      "|      a|2025-01-01 09:00:00|     1|\n",
      "|      a|2025-01-01 09:06:00|     1|\n",
      "|      a|2025-01-01 09:11:00|     1|\n",
      "|      a|2025-01-01 09:12:00|     1|\n",
      "|      a|2025-01-01 09:23:00|     1|\n",
      "|      b|2025-01-01 09:11:00|     1|\n",
      "|      b|2025-01-01 09:19:11|     1|\n",
      "|      b|2025-01-01 09:23:11|     1|\n",
      "+-------+-------------------+------+\n",
      "\n"
     ]
    }
   ],
   "source": [
    "from pyspark.sql.functions import col\n",
    "\n",
    "data = [\n",
    "         ('a', '2025-01-01 09:00:00', 1)\n",
    "        ,('a', '2025-01-01 09:06:00', 1)\n",
    "        ,('a', '2025-01-01 09:11:00', 1)\n",
    "        ,('a', '2025-01-01 09:12:00', 1)\n",
    "        ,('a', '2025-01-01 09:23:00', 1)\n",
    "        ,('b', '2025-01-01 09:11:00', 1)\n",
    "        ,('b', '2025-01-01 09:19:11', 1)\n",
    "        ,('b', '2025-01-01 09:23:11', 1)\n",
    "       ]\n",
    "\n",
    "cols = [\"user_id\", \"time\", \"amount\"]\n",
    "\n",
    "\n",
    "\n",
    "df_sales = spark.createDataFrame(data, cols)\n",
    "df_sales = df_sales.withColumn(\"time\", col(\"time\").cast(\"timestamp\"))\n",
    "df_sales.show()"
   ]
  },
  {
   "cell_type": "code",
   "execution_count": 4,
   "id": "e7d3e041-e8fc-48d3-9ff7-a9ffd8de2bc8",
   "metadata": {},
   "outputs": [
    {
     "data": {
      "text/plain": [
       "' Types: \\n\\n    Tubling: fix size, non-overlapping (by 10 minutes)\\n    Sliding: fix size, sliding window (by 10 minutes, sliding 5 minutes)\\n    Session: based on an activity with time-out\\n\\n'"
      ]
     },
     "execution_count": 4,
     "metadata": {},
     "output_type": "execute_result"
    }
   ],
   "source": [
    "''' Types: \n",
    "\n",
    "    Tubling: fix size, non-overlapping (by 10 minutes)\n",
    "    Sliding: fix size, sliding window (by 10 minutes, sliding 5 minutes)\n",
    "    Session: based on an activity with time-out\n",
    "\n",
    "'''"
   ]
  },
  {
   "cell_type": "code",
   "execution_count": 15,
   "id": "7792e5b1-85b3-4ec8-b3ea-0732cef33eff",
   "metadata": {},
   "outputs": [
    {
     "name": "stdout",
     "output_type": "stream",
     "text": [
      "+-------+------------------------------------------+---------------+\n",
      "|user_id|window                                    |total_of_window|\n",
      "+-------+------------------------------------------+---------------+\n",
      "|a      |{2025-01-01 09:00:00, 2025-01-01 09:10:00}|2              |\n",
      "|a      |{2025-01-01 09:10:00, 2025-01-01 09:20:00}|2              |\n",
      "|a      |{2025-01-01 09:20:00, 2025-01-01 09:30:00}|1              |\n",
      "|b      |{2025-01-01 09:10:00, 2025-01-01 09:20:00}|2              |\n",
      "|b      |{2025-01-01 09:20:00, 2025-01-01 09:30:00}|1              |\n",
      "+-------+------------------------------------------+---------------+\n",
      "\n",
      "+-------+------------------------------------------+---------------+\n",
      "|user_id|window                                    |total_of_window|\n",
      "+-------+------------------------------------------+---------------+\n",
      "|a      |{2025-01-01 09:00:00, 2025-01-01 09:10:00}|2              |\n",
      "|a      |{2025-01-01 08:55:00, 2025-01-01 09:05:00}|1              |\n",
      "|a      |{2025-01-01 09:05:00, 2025-01-01 09:15:00}|3              |\n",
      "|a      |{2025-01-01 09:10:00, 2025-01-01 09:20:00}|2              |\n",
      "|a      |{2025-01-01 09:20:00, 2025-01-01 09:30:00}|1              |\n",
      "|a      |{2025-01-01 09:15:00, 2025-01-01 09:25:00}|1              |\n",
      "|b      |{2025-01-01 09:05:00, 2025-01-01 09:15:00}|1              |\n",
      "|b      |{2025-01-01 09:10:00, 2025-01-01 09:20:00}|2              |\n",
      "|b      |{2025-01-01 09:15:00, 2025-01-01 09:25:00}|2              |\n",
      "|b      |{2025-01-01 09:20:00, 2025-01-01 09:30:00}|1              |\n",
      "+-------+------------------------------------------+---------------+\n",
      "\n",
      "+-------+------------------------------------------+---------------+\n",
      "|user_id|session_window                            |total_of_window|\n",
      "+-------+------------------------------------------+---------------+\n",
      "|a      |{2025-01-01 09:00:00, 2025-01-01 09:22:00}|4              |\n",
      "|a      |{2025-01-01 09:23:00, 2025-01-01 09:33:00}|1              |\n",
      "|b      |{2025-01-01 09:11:00, 2025-01-01 09:33:11}|3              |\n",
      "+-------+------------------------------------------+---------------+\n",
      "\n"
     ]
    }
   ],
   "source": [
    "from pyspark.sql.functions import window, sum, session_window\n",
    "\n",
    "\n",
    "# tubling of 10 mins\n",
    "df_sales.groupBy(\"user_id\", window(col(\"time\"), \"10 minutes\")).agg(sum(\"amount\").alias(\"total_of_window\")).show(truncate=False)\n",
    "\n",
    "# sliding of size 10 mins, sliding 5 mins\n",
    "df_sales.groupBy(\"user_id\", window(col(\"time\"), \"10 minutes\", \"5 minutes\")).agg(sum(\"amount\").alias(\"total_of_window\")).show(truncate=False)\n",
    "\n",
    "# session with 10 minutes inactivity\n",
    "df_sales.groupBy(\"user_id\", session_window(col(\"time\"), \"10 minutes\")).agg(sum(\"amount\").alias(\"total_of_window\")).show(truncate=False)"
   ]
  }
 ],
 "metadata": {
  "kernelspec": {
   "display_name": "Python 3 (ipykernel)",
   "language": "python",
   "name": "python3"
  },
  "language_info": {
   "codemirror_mode": {
    "name": "ipython",
    "version": 3
   },
   "file_extension": ".py",
   "mimetype": "text/x-python",
   "name": "python",
   "nbconvert_exporter": "python",
   "pygments_lexer": "ipython3",
   "version": "3.11.5"
  }
 },
 "nbformat": 4,
 "nbformat_minor": 5
}

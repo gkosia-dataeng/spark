{
 "cells": [
  {
   "cell_type": "code",
   "execution_count": null,
   "id": "46da6bfb-0bcf-4b5b-91bd-8f6225d4ea39",
   "metadata": {},
   "outputs": [],
   "source": [
    "'''\n",
    "    Static allocation:\n",
    "        When an app create the session request specific number of executors with number of cores and memory from resource manager\n",
    "        Resource manager allocate the resources for the app\n",
    "        The app hold the resources until completed or fail\n",
    "        When a new app comos and request resources if the cluster does not have the resources the app is waiting\n",
    "    \n",
    "    Dynamic allocation:  \n",
    "        Executors are scale up/down\n",
    "        When executor need the resources to do the job is scaling up and when its finish it scale down and release the resources\n",
    "        \n",
    "'''"
   ]
  },
  {
   "cell_type": "code",
   "execution_count": 1,
   "id": "cb6dbc40-e730-40d0-a49d-2697ab48cafb",
   "metadata": {},
   "outputs": [
    {
     "data": {
      "text/html": [
       "\n",
       "            <div>\n",
       "                <p><b>SparkSession - in-memory</b></p>\n",
       "                \n",
       "        <div>\n",
       "            <p><b>SparkContext</b></p>\n",
       "\n",
       "            <p><a href=\"http://6e48698dd541:4040\">Spark UI</a></p>\n",
       "\n",
       "            <dl>\n",
       "              <dt>Version</dt>\n",
       "                <dd><code>v3.3.0</code></dd>\n",
       "              <dt>Master</dt>\n",
       "                <dd><code>local[*]</code></dd>\n",
       "              <dt>AppName</dt>\n",
       "                <dd><code>Dynamic allocation</code></dd>\n",
       "            </dl>\n",
       "        </div>\n",
       "        \n",
       "            </div>\n",
       "        "
      ],
      "text/plain": [
       "<pyspark.sql.session.SparkSession at 0x7ff39c1257e0>"
      ]
     },
     "execution_count": 1,
     "metadata": {},
     "output_type": "execute_result"
    }
   ],
   "source": [
    "from pyspark.sql import SparkSession\n",
    "\n",
    "spark = (\n",
    "    SparkSession\n",
    "    .builder\n",
    "    .appName(\"Dynamic allocation\")\n",
    "    .master(\"local[*]\") \n",
    "    .config(\"spark.executor.cores\",2) # executors max of 2 cores\n",
    "    .config(\"spark.executor.memory\", \"512M\")\n",
    "    .config(\"spark.dynamicAllocation.enabled\", True)  # enable external shuffle service that will make the shuffle data available to the newly created executors\n",
    "    .config(\"spark.dynamicAllocation.shuffleTracking.enabled\",True) # track the shuffle data and make sure that the executors can access them\n",
    "    .config(\"spark.dynamicAllocation.minExecutors\",0)\n",
    "    .config(\"spark.dynamicAllocation.maxExecutors\",5)\n",
    "    .config(\"spark.dynamicAllocation.initialExecutors\",1)\n",
    "    .config(\"spark.dynamicAllocation.executorIdleTimeout\", \"60s\") # when executor is idle for 60s it will scale down\n",
    "    .config(\"spark.dynamicAllocation.cachedExecutorIdleTimeout\", \"60s\") # even if have cache data when timeout will scale down\n",
    "    .getOrCreate()\n",
    ")\n",
    "\n",
    "spark"
   ]
  }
 ],
 "metadata": {
  "kernelspec": {
   "display_name": "Python 3 (ipykernel)",
   "language": "python",
   "name": "python3"
  },
  "language_info": {
   "codemirror_mode": {
    "name": "ipython",
    "version": 3
   },
   "file_extension": ".py",
   "mimetype": "text/x-python",
   "name": "python",
   "nbconvert_exporter": "python",
   "pygments_lexer": "ipython3",
   "version": "3.10.6"
  }
 },
 "nbformat": 4,
 "nbformat_minor": 5
}

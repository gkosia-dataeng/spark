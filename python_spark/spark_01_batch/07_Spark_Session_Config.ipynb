{
 "cells": [
  {
   "cell_type": "code",
   "execution_count": 2,
   "id": "0f5e54e0-d772-40ec-950b-cbc252a2dd33",
   "metadata": {},
   "outputs": [],
   "source": [
    "from pyspark.sql import SparkSession\n",
    "\n",
    "\n",
    "'''\n",
    "        *-*******  CLUSTER MODE\n",
    "\n",
    "'''\n",
    "spark = (\n",
    " SparkSession\n",
    " .builder\n",
    " .appName(\"Cluster Execution\")\n",
    " .master(\"local[*]\")# address and port of master node\n",
    " .config(\"spark.executor.instances\", 4) # number of executors\n",
    " .config(\"spark.execuror.cores\",2) # number of cores per executor\n",
    " .config(\"spark.executor.memory\",\"512M\") # memory per executor (default 1gb)\n",
    " .config(\"spark.cores.max\") # maximum number of cores will be used by the app\n",
    ")"
   ]
  },
  {
   "cell_type": "code",
   "execution_count": null,
   "id": "4e5fd95d-c353-4c4b-8cb8-10d4657f8f12",
   "metadata": {},
   "outputs": [],
   "source": []
  }
 ],
 "metadata": {
  "kernelspec": {
   "display_name": "Python 3 (ipykernel)",
   "language": "python",
   "name": "python3"
  },
  "language_info": {
   "codemirror_mode": {
    "name": "ipython",
    "version": 3
   },
   "file_extension": ".py",
   "mimetype": "text/x-python",
   "name": "python",
   "nbconvert_exporter": "python",
   "pygments_lexer": "ipython3",
   "version": "3.10.6"
  }
 },
 "nbformat": 4,
 "nbformat_minor": 5
}

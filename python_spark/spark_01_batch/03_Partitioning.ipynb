{
 "cells": [
  {
   "cell_type": "code",
   "execution_count": 2,
   "id": "9ac9045c-823b-4266-8aef-72bf0730fa43",
   "metadata": {},
   "outputs": [
    {
     "name": "stdout",
     "output_type": "stream",
     "text": [
      "root\n",
      " |-- employee_id: string (nullable = true)\n",
      " |-- department_id: string (nullable = true)\n",
      " |-- name: string (nullable = true)\n",
      " |-- age: string (nullable = true)\n",
      " |-- gender: string (nullable = true)\n",
      " |-- salary: string (nullable = true)\n",
      " |-- hire_date: string (nullable = true)\n",
      "\n",
      "root\n",
      " |-- department_id: string (nullable = true)\n",
      " |-- department_name: string (nullable = true)\n",
      " |-- city: string (nullable = true)\n",
      " |-- country: string (nullable = true)\n",
      " |-- budget: string (nullable = true)\n",
      "\n"
     ]
    }
   ],
   "source": [
    "run ./00_Load_Demo_Data.ipynb"
   ]
  },
  {
   "cell_type": "code",
   "execution_count": 3,
   "id": "a0d78620-06fe-4084-8a15-0df85fedb080",
   "metadata": {},
   "outputs": [
    {
     "data": {
      "text/plain": [
       "16"
      ]
     },
     "metadata": {},
     "output_type": "display_data"
    },
    {
     "data": {
      "text/plain": [
       "16"
      ]
     },
     "metadata": {},
     "output_type": "display_data"
    }
   ],
   "source": [
    "display(emp.rdd.getNumPartitions())\n",
    "display(dept.rdd.getNumPartitions())"
   ]
  },
  {
   "cell_type": "code",
   "execution_count": 5,
   "id": "0142baf3-817f-4182-833c-1d0d9783e2ac",
   "metadata": {},
   "outputs": [
    {
     "name": "stdout",
     "output_type": "stream",
     "text": [
      "+-------------+-----+\n",
      "|partition_num|count|\n",
      "+-------------+-----+\n",
      "|            0|    7|\n",
      "|            1|    9|\n",
      "|            2|    4|\n",
      "+-------------+-----+\n",
      "\n",
      "+-------------+-----+\n",
      "|partition_num|count|\n",
      "+-------------+-----+\n",
      "|            0|    3|\n",
      "|            1|    4|\n",
      "+-------------+-----+\n",
      "\n"
     ]
    }
   ],
   "source": [
    "# repartition: can increase or decrease the partitions\n",
    "# require shuffling\n",
    "emp = emp.repartition(3, \"department_id\")\n",
    "\n",
    "# coalesce: can be used to only reduce the partitions\n",
    "# does not require shuffling\n",
    "dept = dept.coalesce(2)\n",
    "\n",
    "from pyspark.sql.functions import spark_partition_id\n",
    "emp.withColumn(\"partition_num\", spark_partition_id()) \\\n",
    "   .groupBy(\"partition_num\").count().show()\n",
    "\n",
    "dept.withColumn(\"partition_num\", spark_partition_id()) \\\n",
    "   .groupBy(\"partition_num\").count().show()"
   ]
  },
  {
   "cell_type": "code",
   "execution_count": null,
   "id": "9932d64a-4381-4868-8cdb-b7be228071c3",
   "metadata": {},
   "outputs": [],
   "source": []
  }
 ],
 "metadata": {
  "kernelspec": {
   "display_name": "Python 3 (ipykernel)",
   "language": "python",
   "name": "python3"
  },
  "language_info": {
   "codemirror_mode": {
    "name": "ipython",
    "version": 3
   },
   "file_extension": ".py",
   "mimetype": "text/x-python",
   "name": "python",
   "nbconvert_exporter": "python",
   "pygments_lexer": "ipython3",
   "version": "3.11.5"
  }
 },
 "nbformat": 4,
 "nbformat_minor": 5
}

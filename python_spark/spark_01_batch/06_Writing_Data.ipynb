{
 "cells": [
  {
   "cell_type": "code",
   "execution_count": 1,
   "id": "9463e319-234b-4906-a29c-893f87111bc2",
   "metadata": {},
   "outputs": [
    {
     "name": "stdout",
     "output_type": "stream",
     "text": [
      "root\n",
      " |-- employee_id: string (nullable = true)\n",
      " |-- department_id: string (nullable = true)\n",
      " |-- name: string (nullable = true)\n",
      " |-- age: string (nullable = true)\n",
      " |-- gender: string (nullable = true)\n",
      " |-- salary: string (nullable = true)\n",
      " |-- hire_date: string (nullable = true)\n",
      "\n",
      "root\n",
      " |-- department_id: string (nullable = true)\n",
      " |-- department_name: string (nullable = true)\n",
      " |-- city: string (nullable = true)\n",
      " |-- country: string (nullable = true)\n",
      " |-- budget: string (nullable = true)\n",
      "\n"
     ]
    }
   ],
   "source": [
    "run ./00_Load_Demo_Data.ipynb"
   ]
  },
  {
   "cell_type": "code",
   "execution_count": 3,
   "id": "3c6ba50c-5a19-4ba9-b968-9bb0f4dca3db",
   "metadata": {},
   "outputs": [
    {
     "data": {
      "text/plain": [
       "16"
      ]
     },
     "execution_count": 3,
     "metadata": {},
     "output_type": "execute_result"
    }
   ],
   "source": [
    "# git the number of cores in the cluster\n",
    "# in spark UI we can see available cores in Executors tab\n",
    "spark.sparkContext.defaultParallelism\n",
    "\n"
   ]
  },
  {
   "cell_type": "code",
   "execution_count": 4,
   "id": "7658303e-0349-4a17-8697-bbdd10ea7e14",
   "metadata": {},
   "outputs": [
    {
     "data": {
      "text/plain": [
       "16"
      ]
     },
     "execution_count": 4,
     "metadata": {},
     "output_type": "execute_result"
    }
   ],
   "source": [
    "# get number of partitions of dataframe\n",
    "emp.rdd.getNumPartitions()"
   ]
  },
  {
   "cell_type": "code",
   "execution_count": 5,
   "id": "b7e3d7f6-2f22-4569-b8e9-77346cde5bc0",
   "metadata": {},
   "outputs": [],
   "source": [
    "emp.write.format(\"parquet\").save(\"/home/jovyan/data/emp_Data.parquet\")"
   ]
  },
  {
   "cell_type": "code",
   "execution_count": 7,
   "id": "e319623c-8307-46d1-8a24-7115d54644e8",
   "metadata": {},
   "outputs": [
    {
     "name": "stdout",
     "output_type": "stream",
     "text": [
      "+-----------+-------------+-------------+---+------+------+----------+------------+\n",
      "|employee_id|department_id|         name|age|gender|salary| hire_date|partition_id|\n",
      "+-----------+-------------+-------------+---+------+------+----------+------------+\n",
      "|        001|          101|     John Doe| 30|  Male| 50000|2015-01-01|           0|\n",
      "|        002|          101|   Jane Smith| 25|Female| 45000|2016-02-15|           1|\n",
      "|        003|          102|    Bob Brown| 35|  Male| 55000|2014-05-01|           2|\n",
      "|        004|          102|    Alice Lee| 28|Female| 48000|2017-09-30|           3|\n",
      "|        005|          103|    Jack Chan| 40|  Male| 60000|2013-04-01|           3|\n",
      "|        006|          103|    Jill Wong| 32|Female| 52000|2018-07-01|           4|\n",
      "|        007|          101|James Johnson| 42|  Male| 70000|2012-03-15|           5|\n",
      "|        008|          102|     Kate Kim| 29|Female| 51000|2019-10-01|           6|\n",
      "|        009|          103|      Tom Tan| 33|  Male| 58000|2016-06-01|           7|\n",
      "|        010|          104|     Lisa Lee| 27|Female| 47000|2018-08-01|           7|\n",
      "|        011|          104|   David Park| 38|  Male| 65000|2015-11-01|           8|\n",
      "|        012|          105|   Susan Chen| 31|Female| 54000|2017-02-15|           9|\n",
      "|        013|          106|    Brian Kim| 45|  Male| 75000|2011-07-01|          10|\n",
      "|        014|          107|    Emily Lee| 26|Female| 46000|2019-01-01|          11|\n",
      "|        015|          106|  Michael Lee| 37|  Male| 63000|2014-09-30|          11|\n",
      "|        016|          107|  Kelly Zhang| 30|Female| 49000|2018-04-01|          12|\n",
      "|        017|          105|  George Wang| 34|  Male| 57000|2016-03-15|          13|\n",
      "|        018|          104|    Nancy Liu| 29|Female| 50000|2017-06-01|          14|\n",
      "|        019|          103|  Steven Chen| 36|  Male| 62000|2015-08-01|          15|\n",
      "|        020|          102|    Grace Kim| 32|Female| 53000|2018-11-01|          15|\n",
      "+-----------+-------------+-------------+---+------+------+----------+------------+\n",
      "\n"
     ]
    }
   ],
   "source": [
    "from pyspark.sql.functions import spark_partition_id\n",
    "\n",
    "emp.withColumn(\"partition_id\",spark_partition_id()).show()"
   ]
  },
  {
   "cell_type": "code",
   "execution_count": 8,
   "id": "7e532b80-6589-4cf8-8128-e1696da7f86c",
   "metadata": {},
   "outputs": [],
   "source": [
    "emp.write.format(\"csv\").option(\"header\",True).save(\"/home/jovyan/data/emp_Data.csv\")"
   ]
  },
  {
   "cell_type": "code",
   "execution_count": 9,
   "id": "1fdb1dcd-50ec-4578-88b0-16d2bc29c62a",
   "metadata": {},
   "outputs": [],
   "source": [
    "emp.write.format(\"csv\").partitionBy(\"department_id\").option(\"header\",True).save(\"/home/jovyan/data/emp_Data_part_dep.csv\")"
   ]
  },
  {
   "cell_type": "code",
   "execution_count": null,
   "id": "8b190722-b966-49b2-85d4-288c7541eaba",
   "metadata": {},
   "outputs": [],
   "source": [
    "'''\n",
    "    Write modes:\n",
    "        append:    append new files\n",
    "        overwrite: override existing files\n",
    "        ignore   : dont write the new data and dont give error\n",
    "        error    : dont write the new data and give error\n",
    "'''\n",
    "\n",
    "\n",
    "# if i want to wrtie the data to 1 partition i will use repartition or coalesce"
   ]
  }
 ],
 "metadata": {
  "kernelspec": {
   "display_name": "Python 3 (ipykernel)",
   "language": "python",
   "name": "python3"
  },
  "language_info": {
   "codemirror_mode": {
    "name": "ipython",
    "version": 3
   },
   "file_extension": ".py",
   "mimetype": "text/x-python",
   "name": "python",
   "nbconvert_exporter": "python",
   "pygments_lexer": "ipython3",
   "version": "3.11.5"
  }
 },
 "nbformat": 4,
 "nbformat_minor": 5
}

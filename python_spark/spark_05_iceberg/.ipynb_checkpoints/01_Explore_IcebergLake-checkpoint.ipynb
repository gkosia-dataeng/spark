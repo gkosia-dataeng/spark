{
 "cells": [
  {
   "cell_type": "code",
   "execution_count": 1,
   "id": "31111f13-1fd2-4f3e-ab00-64507ecd36a2",
   "metadata": {},
   "outputs": [
    {
     "data": {
      "text/html": [
       "\n",
       "            <div>\n",
       "                <p><b>SparkSession - hive</b></p>\n",
       "                \n",
       "        <div>\n",
       "            <p><b>SparkContext</b></p>\n",
       "\n",
       "            <p><a href=\"http://4267519513fb:4040\">Spark UI</a></p>\n",
       "\n",
       "            <dl>\n",
       "              <dt>Version</dt>\n",
       "                <dd><code>v3.4.1</code></dd>\n",
       "              <dt>Master</dt>\n",
       "                <dd><code>local[*]</code></dd>\n",
       "              <dt>AppName</dt>\n",
       "                <dd><code>Explore iceberg lake</code></dd>\n",
       "            </dl>\n",
       "        </div>\n",
       "        \n",
       "            </div>\n",
       "        "
      ],
      "text/plain": [
       "<pyspark.sql.session.SparkSession at 0x7fceee56a550>"
      ]
     },
     "execution_count": 1,
     "metadata": {},
     "output_type": "execute_result"
    }
   ],
   "source": [
    "from utils.session_builder import get_session_iceberglake\n",
    "\n",
    "spark  = get_session_iceberglake(\"Explore iceberg lake\")\n",
    "\n",
    "spark"
   ]
  },
  {
   "cell_type": "code",
   "execution_count": 10,
   "id": "2bf75e47-4e7a-4f58-afcf-1f9fa54a7ebc",
   "metadata": {},
   "outputs": [
    {
     "name": "stdout",
     "output_type": "stream",
     "text": [
      "+----------+\n",
      "| namespace|\n",
      "+----------+\n",
      "|    bronze|\n",
      "|   default|\n",
      "|ice_bronze|\n",
      "+----------+\n",
      "\n",
      "+--------------+-----------------------------------------------------------------------------------+\n",
      "|info_name     |info_value                                                                         |\n",
      "+--------------+-----------------------------------------------------------------------------------+\n",
      "|Catalog Name  |spark_catalog                                                                      |\n",
      "|Namespace Name|ice_bronze                                                                         |\n",
      "|Location      |s3a://lakehouse/warehouse/iceberg/ice_bronze.db                                    |\n",
      "|Owner         |jovyan                                                                             |\n",
      "|Properties    |((hive.metastore.database.owner,jovyan), (hive.metastore.database.owner-type,USER))|\n",
      "+--------------+-----------------------------------------------------------------------------------+\n",
      "\n"
     ]
    }
   ],
   "source": [
    "spark.sql(\"create schema if not exists ice_bronze\")\n",
    "spark.sql(\"show databases;\").show()\n",
    "spark.sql(\"describe schema extended  ice_bronze;\").show(truncate =False)"
   ]
  },
  {
   "cell_type": "code",
   "execution_count": 11,
   "id": "2e80167e-db80-4bb7-b24c-f4f5be170612",
   "metadata": {},
   "outputs": [],
   "source": [
    "data = [(1, \"aa\"), (2, \"bb\")]\n",
    "headers = [\"id\", \"name\"]\n",
    "\n",
    "df = spark.createDataFrame(data, headers)\n",
    "\n",
    "df.write.format(\"iceberg\").mode(\"overwrite\").saveAsTable(\"test_iceberg_table\")"
   ]
  },
  {
   "cell_type": "code",
   "execution_count": 8,
   "id": "6b2f9e20-0a60-4fd0-8782-26cd1b0fb303",
   "metadata": {},
   "outputs": [
    {
     "name": "stdout",
     "output_type": "stream",
     "text": [
      "+----------------------------+----------------------------------------------------------------------------------------------------------------------+-------+\n",
      "|col_name                    |data_type                                                                                                             |comment|\n",
      "+----------------------------+----------------------------------------------------------------------------------------------------------------------+-------+\n",
      "|id                          |bigint                                                                                                                |null   |\n",
      "|name                        |string                                                                                                                |null   |\n",
      "|                            |                                                                                                                      |       |\n",
      "|# Metadata Columns          |                                                                                                                      |       |\n",
      "|_spec_id                    |int                                                                                                                   |       |\n",
      "|_partition                  |struct<>                                                                                                              |       |\n",
      "|_file                       |string                                                                                                                |       |\n",
      "|_pos                        |bigint                                                                                                                |       |\n",
      "|_deleted                    |boolean                                                                                                               |       |\n",
      "|                            |                                                                                                                      |       |\n",
      "|# Detailed Table Information|                                                                                                                      |       |\n",
      "|Name                        |spark_catalog.bronze.test_iceberg_table                                                                               |       |\n",
      "|Type                        |MANAGED                                                                                                               |       |\n",
      "|Location                    |s3a://lakehouse/warehouse/delta/bronze.db/test_iceberg_table                                                          |       |\n",
      "|Provider                    |iceberg                                                                                                               |       |\n",
      "|Owner                       |jovyan                                                                                                                |       |\n",
      "|Table Properties            |[current-snapshot-id=1184699102568687190,format=iceberg/parquet,format-version=2,write.parquet.compression-codec=zstd]|       |\n",
      "+----------------------------+----------------------------------------------------------------------------------------------------------------------+-------+\n",
      "\n"
     ]
    }
   ],
   "source": [
    "spark.sql(\"describe table extended test_iceberg_table;\").show(truncate=False)"
   ]
  },
  {
   "cell_type": "code",
   "execution_count": null,
   "id": "5aba0e06-3a4a-4486-b11a-6a6c25f80d83",
   "metadata": {},
   "outputs": [],
   "source": []
  }
 ],
 "metadata": {
  "kernelspec": {
   "display_name": "Python 3 (ipykernel)",
   "language": "python",
   "name": "python3"
  },
  "language_info": {
   "codemirror_mode": {
    "name": "ipython",
    "version": 3
   },
   "file_extension": ".py",
   "mimetype": "text/x-python",
   "name": "python",
   "nbconvert_exporter": "python",
   "pygments_lexer": "ipython3",
   "version": "3.11.5"
  }
 },
 "nbformat": 4,
 "nbformat_minor": 5
}

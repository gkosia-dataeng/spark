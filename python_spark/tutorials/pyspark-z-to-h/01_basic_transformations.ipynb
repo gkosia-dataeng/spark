{
 "cells": [
  {
   "cell_type": "code",
   "execution_count": 13,
   "id": "397ba486-8850-43bb-b7ac-d9bf4cf9abdb",
   "metadata": {},
   "outputs": [
    {
     "name": "stdout",
     "output_type": "stream",
     "text": [
      "+---+----+---+------+\n",
      "| id|name|age|salary|\n",
      "+---+----+---+------+\n",
      "|  1| Gav| 35|   100|\n",
      "|  2| Zac| 34|   150|\n",
      "|  3|  Hr| 28|   120|\n",
      "|  4| Mar| 26|   210|\n",
      "+---+----+---+------+\n",
      "\n"
     ]
    }
   ],
   "source": [
    "from pyspark.sql import SparkSession\n",
    "\n",
    "\n",
    "spark = SparkSession.builder.appName(\"00 SparkSession\").master(\"local[*]\").getOrCreate()\n",
    "\n",
    "data = [\n",
    "     [1, \"Gav\", 35, 100]\n",
    "    ,[2, \"Zac\", 34, 150]\n",
    "    ,[3, \"Hr\", 28, 120]\n",
    "    ,[4, \"Mar\", 26, 210]\n",
    "]\n",
    "\n",
    "schema = \"id int, name string, age int, salary int\"\n",
    "\n",
    "df_users = spark.createDataFrame(data, schema)\n",
    "\n",
    "df_users.show()\n"
   ]
  },
  {
   "cell_type": "code",
   "execution_count": 14,
   "id": "b1d39002-b3a6-4b3e-8af4-15fed2ef7d8d",
   "metadata": {},
   "outputs": [],
   "source": [
    "# cast\n",
    "from pyspark.sql.functions import col, cast\n",
    "df_users = df_users.select(\"id\", \"name\", col(\"salary\").cast(\"double\"))"
   ]
  },
  {
   "cell_type": "code",
   "execution_count": 15,
   "id": "b9eb8f87-729f-4207-bbff-efc324fc20d6",
   "metadata": {},
   "outputs": [
    {
     "name": "stdout",
     "output_type": "stream",
     "text": [
      "+---+----+------+----+\n",
      "| id|name|salary| tax|\n",
      "+---+----+------+----+\n",
      "|  1| Gav| 100.0|20.0|\n",
      "|  2| Zac| 150.0|30.0|\n",
      "|  3|  Hr| 120.0|24.0|\n",
      "|  4| Mar| 210.0|42.0|\n",
      "+---+----+------+----+\n",
      "\n"
     ]
    }
   ],
   "source": [
    "# new column\n",
    "df_users = df_users.withColumn(\"tax\", col(\"salary\") * 0.2)\n",
    "df_users.show()"
   ]
  },
  {
   "cell_type": "code",
   "execution_count": 16,
   "id": "3c77549f-0d4b-4e84-81aa-b4e4265f62c0",
   "metadata": {},
   "outputs": [
    {
     "name": "stdout",
     "output_type": "stream",
     "text": [
      "+---+----+------+----+-----+\n",
      "| id|name|salary| tax|title|\n",
      "+---+----+------+----+-----+\n",
      "|  1| Gav| 100.0|20.0|  Mr |\n",
      "|  2| Zac| 150.0|30.0|  Mr |\n",
      "|  3|  Hr| 120.0|24.0|  Mr |\n",
      "|  4| Mar| 210.0|42.0|  Mr |\n",
      "+---+----+------+----+-----+\n",
      "\n"
     ]
    }
   ],
   "source": [
    "# lit: static values in column\n",
    "from pyspark.sql.functions import lit\n",
    "df_users = df_users.withColumn(\"title\", lit(\"Mr \"))\n",
    "df_users.show()"
   ]
  },
  {
   "cell_type": "code",
   "execution_count": 17,
   "id": "c1ca5e48-cb71-4519-96a7-b4f161db8a1c",
   "metadata": {},
   "outputs": [
    {
     "name": "stdout",
     "output_type": "stream",
     "text": [
      "+---+---------+------+----+-----+\n",
      "| id|user_name|salary| tax|title|\n",
      "+---+---------+------+----+-----+\n",
      "|  1|      Gav| 100.0|20.0|  Mr |\n",
      "|  2|      Zac| 150.0|30.0|  Mr |\n",
      "|  3|       Hr| 120.0|24.0|  Mr |\n",
      "|  4|      Mar| 210.0|42.0|  Mr |\n",
      "+---+---------+------+----+-----+\n",
      "\n"
     ]
    }
   ],
   "source": [
    "# rename columns\n",
    "df_users = df_users.withColumnRenamed(\"name\", \"user_name\")\n",
    "df_users.show()"
   ]
  },
  {
   "cell_type": "code",
   "execution_count": 22,
   "id": "efc9bfc6-2897-4743-8fe6-2f734aac8935",
   "metadata": {},
   "outputs": [
    {
     "name": "stdout",
     "output_type": "stream",
     "text": [
      "+---------+------+----+\n",
      "|user_name|salary| tax|\n",
      "+---------+------+----+\n",
      "|      Gav| 100.0|20.0|\n",
      "|      Zac| 150.0|30.0|\n",
      "|       Hr| 120.0|24.0|\n",
      "+---------+------+----+\n",
      "\n"
     ]
    }
   ],
   "source": [
    "# remove column\n",
    "df_users = df_users.drop(\"title\", \"id\")\n",
    "df_users.limit(3).show()"
   ]
  },
  {
   "cell_type": "code",
   "execution_count": 23,
   "id": "a37d68b9-6b75-41e0-a40a-e18e6f3a534e",
   "metadata": {},
   "outputs": [
    {
     "name": "stdout",
     "output_type": "stream",
     "text": [
      "+---------+------+----+---------+-----+\n",
      "|user_name|salary| tax|doubletax|title|\n",
      "+---------+------+----+---------+-----+\n",
      "|      Gav| 100.0|20.0|    200.0|   Mr|\n",
      "|      Zac| 150.0|30.0|    300.0|   Mr|\n",
      "|       Hr| 120.0|24.0|    240.0|   Mr|\n",
      "|      Mar| 210.0|42.0|    420.0|   Mr|\n",
      "+---------+------+----+---------+-----+\n",
      "\n"
     ]
    }
   ],
   "source": [
    "# multiple columns\n",
    "\n",
    "columns = {\n",
    "     \"doubletax\": col(\"salary\") * 2\n",
    "    ,\"title\": lit(\"Mr\")\n",
    "}\n",
    "\n",
    "df_users.withColumns(columns).show()\n"
   ]
  },
  {
   "cell_type": "code",
   "execution_count": null,
   "id": "7cc077b7-f1e8-4919-bc7e-10b867b97b5d",
   "metadata": {},
   "outputs": [],
   "source": []
  }
 ],
 "metadata": {
  "kernelspec": {
   "display_name": "Python 3 (ipykernel)",
   "language": "python",
   "name": "python3"
  },
  "language_info": {
   "codemirror_mode": {
    "name": "ipython",
    "version": 3
   },
   "file_extension": ".py",
   "mimetype": "text/x-python",
   "name": "python",
   "nbconvert_exporter": "python",
   "pygments_lexer": "ipython3",
   "version": "3.11.5"
  }
 },
 "nbformat": 4,
 "nbformat_minor": 5
}

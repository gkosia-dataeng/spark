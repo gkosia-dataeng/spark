{
 "cells": [
  {
   "cell_type": "code",
   "execution_count": 5,
   "id": "7c95c6b6-dc3a-4ebb-8317-694c6facf732",
   "metadata": {},
   "outputs": [
    {
     "data": {
      "text/html": [
       "\n",
       "            <div>\n",
       "                <p><b>SparkSession - in-memory</b></p>\n",
       "                \n",
       "        <div>\n",
       "            <p><b>SparkContext</b></p>\n",
       "\n",
       "            <p><a href=\"http://fa486c8e16de:4040\">Spark UI</a></p>\n",
       "\n",
       "            <dl>\n",
       "              <dt>Version</dt>\n",
       "                <dd><code>v3.4.1</code></dd>\n",
       "              <dt>Master</dt>\n",
       "                <dd><code>local[*]</code></dd>\n",
       "              <dt>AppName</dt>\n",
       "                <dd><code>00 SparkSession</code></dd>\n",
       "            </dl>\n",
       "        </div>\n",
       "        \n",
       "            </div>\n",
       "        "
      ],
      "text/plain": [
       "<pyspark.sql.session.SparkSession at 0x7f3e73471150>"
      ]
     },
     "execution_count": 5,
     "metadata": {},
     "output_type": "execute_result"
    }
   ],
   "source": [
    "from pyspark.sql import SparkSession\n",
    "\n",
    "\n",
    "spark = SparkSession.builder.appName(\"00 SparkSession\").master(\"local[*]\").getOrCreate()\n",
    "\n",
    "spark"
   ]
  },
  {
   "cell_type": "code",
   "execution_count": 9,
   "id": "6fdf2250-8076-4dad-b3ea-fc0cafe87747",
   "metadata": {},
   "outputs": [
    {
     "name": "stdout",
     "output_type": "stream",
     "text": [
      "+---+----+---+\n",
      "| id|name|age|\n",
      "+---+----+---+\n",
      "|  1| Gav| 35|\n",
      "|  2| Zac| 34|\n",
      "|  3|  Hr| 28|\n",
      "|  4| Mar| 26|\n",
      "+---+----+---+\n",
      "\n"
     ]
    }
   ],
   "source": [
    "data = [\n",
    "     [1, \"Gav\", 35]\n",
    "    ,[2, \"Zac\", 34]\n",
    "    ,[3, \"Hr\", 28]\n",
    "    ,[4, \"Mar\", 26]\n",
    "]"
   ]
  },
  {
   "cell_type": "code",
   "execution_count": null,
   "id": "04307405-eb90-4c5a-860d-fd9c38b5f0e3",
   "metadata": {},
   "outputs": [],
   "source": [
    "# define the schema as string\n",
    "\n",
    "\n",
    "schema = \"id int, name string, age int\"\n",
    "\n",
    "df_users = spark.createDataFrame(data, schema)\n",
    "\n",
    "df_users.show()"
   ]
  },
  {
   "cell_type": "code",
   "execution_count": 15,
   "id": "ef3ddf1a-e4cf-41b9-84e0-b7722d9b8a62",
   "metadata": {},
   "outputs": [],
   "source": [
    "# define the schema as Struct\n",
    "\n",
    "from pyspark.sql.types import StructType, StructField, StringType, IntegerType\n",
    "\n",
    "py_schema = StructType(\n",
    "    [\n",
    "         StructField(\"id\", IntegerType(), False)\n",
    "        ,StructField(\"name\", StringType(),False)\n",
    "        ,StructField(\"age\", IntegerType(), False)\n",
    "    ]\n",
    ")\n",
    "\n",
    "\n",
    "df_other_users = spark.createDataFrame(data,py_schema)"
   ]
  },
  {
   "cell_type": "code",
   "execution_count": 29,
   "id": "e2c0eac4-cf30-4aff-ae5d-c2d08a718c39",
   "metadata": {},
   "outputs": [
    {
     "data": {
      "text/plain": [
       "StructType([StructField('id', IntegerType(), True), StructField('name', StringType(), True), StructField('age', IntegerType(), True)])"
      ]
     },
     "execution_count": 29,
     "metadata": {},
     "output_type": "execute_result"
    }
   ],
   "source": [
    "# from string schema to pyspark schema\n",
    "from pyspark.sql.types import _parse_datatype_string\n",
    "\n",
    "\n",
    "pyschema = _parse_datatype_string(schema)\n",
    "\n",
    "pyschema"
   ]
  },
  {
   "cell_type": "code",
   "execution_count": 31,
   "id": "95226666-d941-41fa-80fc-35027b142e40",
   "metadata": {},
   "outputs": [
    {
     "name": "stdout",
     "output_type": "stream",
     "text": [
      "root\n",
      " |-- id: integer (nullable = true)\n",
      " |-- name: string (nullable = true)\n",
      " |-- age: integer (nullable = true)\n",
      "\n"
     ]
    },
    {
     "data": {
      "text/plain": [
       "StructType([StructField('id', IntegerType(), True), StructField('name', StringType(), True), StructField('age', IntegerType(), True)])"
      ]
     },
     "execution_count": 31,
     "metadata": {},
     "output_type": "execute_result"
    }
   ],
   "source": [
    "# inspect schema\n",
    "\n",
    "df_users.printSchema()\n",
    "df_users.schema\n"
   ]
  },
  {
   "cell_type": "code",
   "execution_count": 20,
   "id": "8320a723-1a4a-4831-b1bf-110116b7aa46",
   "metadata": {},
   "outputs": [
    {
     "data": {
      "text/plain": [
       "Column<'id'>"
      ]
     },
     "execution_count": 20,
     "metadata": {},
     "output_type": "execute_result"
    }
   ],
   "source": [
    "# refer to a column\n",
    "df_users.id\n",
    "df_users[\"id\"]\n",
    "\n",
    "\n",
    "from pyspark.sql.functions import col, expr\n",
    "\n",
    "col(\"id\")\n",
    "expr(\"id\")"
   ]
  },
  {
   "cell_type": "code",
   "execution_count": 24,
   "id": "31a9ddbc-5335-4e99-92f2-92505514134a",
   "metadata": {},
   "outputs": [
    {
     "name": "stdout",
     "output_type": "stream",
     "text": [
      "+---+---------+---+---+\n",
      "| id|user_name| id|age|\n",
      "+---+---------+---+---+\n",
      "|  1|      Gav|  1| 35|\n",
      "|  2|      Zac|  2| 34|\n",
      "|  3|       Hr|  3| 28|\n",
      "|  4|      Mar|  4| 26|\n",
      "+---+---------+---+---+\n",
      "\n",
      "+---+--------+---------+\n",
      "| id|user_age|user_name|\n",
      "+---+--------+---------+\n",
      "|  1|      35|      Gav|\n",
      "|  2|      34|      Zac|\n",
      "|  3|      28|       Hr|\n",
      "|  4|      26|      Mar|\n",
      "+---+--------+---------+\n",
      "\n"
     ]
    }
   ],
   "source": [
    "# SELECT: provide as parameters the columns \n",
    "df_users.select(col(\"id\"), expr(\"name as user_name\"), df_users.id, df_users[\"age\"]).show()\n",
    "\n",
    "# selectExpr: provide as parameters the columns as string expressions (no need to use individual expr for each column)\n",
    "df_users.selectExpr(\"id\", \"cast(age as int) as user_age\", \"name as user_name\").show()\n"
   ]
  },
  {
   "cell_type": "code",
   "execution_count": 26,
   "id": "09fd34a6-33c9-4b4f-a191-77990a80751c",
   "metadata": {},
   "outputs": [
    {
     "name": "stdout",
     "output_type": "stream",
     "text": [
      "+---+----+---+\n",
      "| id|name|age|\n",
      "+---+----+---+\n",
      "|  1| Gav| 35|\n",
      "|  2| Zac| 34|\n",
      "+---+----+---+\n",
      "\n",
      "+---+----+---+\n",
      "| id|name|age|\n",
      "+---+----+---+\n",
      "|  1| Gav| 35|\n",
      "|  2| Zac| 34|\n",
      "+---+----+---+\n",
      "\n",
      "+---+----+---+\n",
      "| id|name|age|\n",
      "+---+----+---+\n",
      "|  1| Gav| 35|\n",
      "|  2| Zac| 34|\n",
      "+---+----+---+\n",
      "\n"
     ]
    }
   ],
   "source": [
    "df_users.where(\"age > 30\").show()\n",
    "df_users.filter(\"age > 30\").show()\n",
    "\n",
    "df_users.where(col(\"age\") > 30).show()"
   ]
  },
  {
   "cell_type": "code",
   "execution_count": null,
   "id": "a8f5b5d8-5610-4a46-b25f-d4634ba99d4f",
   "metadata": {},
   "outputs": [],
   "source": []
  }
 ],
 "metadata": {
  "kernelspec": {
   "display_name": "Python 3 (ipykernel)",
   "language": "python",
   "name": "python3"
  },
  "language_info": {
   "codemirror_mode": {
    "name": "ipython",
    "version": 3
   },
   "file_extension": ".py",
   "mimetype": "text/x-python",
   "name": "python",
   "nbconvert_exporter": "python",
   "pygments_lexer": "ipython3",
   "version": "3.11.5"
  }
 },
 "nbformat": 4,
 "nbformat_minor": 5
}

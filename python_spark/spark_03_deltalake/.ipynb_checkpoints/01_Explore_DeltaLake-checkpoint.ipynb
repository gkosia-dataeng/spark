{
 "cells": [
  {
   "cell_type": "code",
   "execution_count": 1,
   "id": "3a8cc3be-b4a7-4ee6-901e-fd19059086bc",
   "metadata": {},
   "outputs": [
    {
     "data": {
      "text/html": [
       "\n",
       "            <div>\n",
       "                <p><b>SparkSession - hive</b></p>\n",
       "                \n",
       "        <div>\n",
       "            <p><b>SparkContext</b></p>\n",
       "\n",
       "            <p><a href=\"http://18ec4ddcd740:4040\">Spark UI</a></p>\n",
       "\n",
       "            <dl>\n",
       "              <dt>Version</dt>\n",
       "                <dd><code>v3.4.1</code></dd>\n",
       "              <dt>Master</dt>\n",
       "                <dd><code>local[*]</code></dd>\n",
       "              <dt>AppName</dt>\n",
       "                <dd><code>Explore DeltaLake</code></dd>\n",
       "            </dl>\n",
       "        </div>\n",
       "        \n",
       "            </div>\n",
       "        "
      ],
      "text/plain": [
       "<pyspark.sql.session.SparkSession at 0x7f5ee5f0ffd0>"
      ]
     },
     "execution_count": 1,
     "metadata": {},
     "output_type": "execute_result"
    }
   ],
   "source": [
    "from utils.session_builder import get_session_deltalake\n",
    "\n",
    "spark = get_session_deltalake(\"Explore DeltaLake\")\n",
    "\n",
    "spark"
   ]
  },
  {
   "cell_type": "code",
   "execution_count": 2,
   "id": "385205c7-ed51-4aac-80a2-6ba3936170a0",
   "metadata": {},
   "outputs": [
    {
     "name": "stdout",
     "output_type": "stream",
     "text": [
      "+---------+\n",
      "|namespace|\n",
      "+---------+\n",
      "|   bronze|\n",
      "|  default|\n",
      "+---------+\n",
      "\n"
     ]
    }
   ],
   "source": [
    "# which databases\n",
    "spark.sql(\"show SCHEMAS;\").show()"
   ]
  },
  {
   "cell_type": "code",
   "execution_count": 3,
   "id": "2b94a37e-1000-4925-af52-8479d9237c1d",
   "metadata": {},
   "outputs": [
    {
     "data": {
      "text/plain": [
       "DataFrame[]"
      ]
     },
     "execution_count": 3,
     "metadata": {},
     "output_type": "execute_result"
    }
   ],
   "source": [
    "spark.sql(\"CREATE SCHEMA IF NOT EXISTS bronze\")"
   ]
  },
  {
   "cell_type": "code",
   "execution_count": 3,
   "id": "e31f4b8a-021a-4cce-ac2c-4db165987fcb",
   "metadata": {},
   "outputs": [
    {
     "name": "stdout",
     "output_type": "stream",
     "text": [
      "+--------------+-----------------------------------------+\n",
      "|info_name     |info_value                               |\n",
      "+--------------+-----------------------------------------+\n",
      "|Catalog Name  |spark_catalog                            |\n",
      "|Namespace Name|bronze                                   |\n",
      "|Comment       |                                         |\n",
      "|Location      |s3a://lakehouse/warehouse/delta/bronze.db|\n",
      "|Owner         |jovyan                                   |\n",
      "|Properties    |                                         |\n",
      "+--------------+-----------------------------------------+\n",
      "\n"
     ]
    }
   ],
   "source": [
    "# database info\n",
    "spark.sql(\"describe DATABASE  EXTENDED bronze;\").show(truncate=False)"
   ]
  },
  {
   "cell_type": "code",
   "execution_count": 16,
   "id": "8e28eb38-46a2-41c3-b229-81dd1ea2403f",
   "metadata": {},
   "outputs": [
    {
     "data": {
      "text/plain": [
       "DataFrame[]"
      ]
     },
     "execution_count": 16,
     "metadata": {},
     "output_type": "execute_result"
    }
   ],
   "source": [
    "# switch to database\n",
    "spark.sql(\"use bronze;\")"
   ]
  },
  {
   "cell_type": "code",
   "execution_count": 17,
   "id": "ece7d770-e653-4dc0-abb5-15a8d2ea33f5",
   "metadata": {},
   "outputs": [
    {
     "name": "stdout",
     "output_type": "stream",
     "text": [
      "+---------+--------------------+-----------+\n",
      "|namespace|           tableName|isTemporary|\n",
      "+---------+--------------------+-----------+\n",
      "|  default|managed_delta_python|      false|\n",
      "|  default| managed_delta_sql_1|      false|\n",
      "|  default| managed_delta_sql_2|      false|\n",
      "+---------+--------------------+-----------+\n",
      "\n"
     ]
    }
   ],
   "source": [
    "# show tables \n",
    "spark.sql(\"show tables;\").show()"
   ]
  },
  {
   "cell_type": "code",
   "execution_count": 18,
   "id": "6aa13eb1-86d3-4fa2-800c-97bf501fcd63",
   "metadata": {},
   "outputs": [
    {
     "name": "stdout",
     "output_type": "stream",
     "text": [
      "+----------------------------+---------------------------------------------------+-------+\n",
      "|col_name                    |data_type                                          |comment|\n",
      "+----------------------------+---------------------------------------------------+-------+\n",
      "|Id                          |int                                                |null   |\n",
      "|name                        |string                                             |null   |\n",
      "|                            |                                                   |       |\n",
      "|# Detailed Table Information|                                                   |       |\n",
      "|Name                        |spark_catalog.default.managed_delta_sql_1          |       |\n",
      "|Type                        |MANAGED                                            |       |\n",
      "|Location                    |s3a://lakehouse/warehouse/managed_delta_sql_1      |       |\n",
      "|Provider                    |delta                                              |       |\n",
      "|Owner                       |jovyan                                             |       |\n",
      "|Table Properties            |[delta.minReaderVersion=1,delta.minWriterVersion=2]|       |\n",
      "+----------------------------+---------------------------------------------------+-------+\n",
      "\n"
     ]
    }
   ],
   "source": [
    "spark.sql(\"describe table extended  managed_delta_sql_1\").show(truncate=False)"
   ]
  },
  {
   "cell_type": "code",
   "execution_count": null,
   "id": "8f6564ee-23ce-404e-9a3b-e93d991f8a92",
   "metadata": {},
   "outputs": [],
   "source": []
  }
 ],
 "metadata": {
  "kernelspec": {
   "display_name": "Python 3 (ipykernel)",
   "language": "python",
   "name": "python3"
  },
  "language_info": {
   "codemirror_mode": {
    "name": "ipython",
    "version": 3
   },
   "file_extension": ".py",
   "mimetype": "text/x-python",
   "name": "python",
   "nbconvert_exporter": "python",
   "pygments_lexer": "ipython3",
   "version": "3.11.5"
  }
 },
 "nbformat": 4,
 "nbformat_minor": 5
}

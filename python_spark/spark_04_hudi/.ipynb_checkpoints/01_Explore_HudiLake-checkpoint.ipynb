{
 "cells": [
  {
   "cell_type": "code",
   "execution_count": 1,
   "id": "52646885-3a25-43dc-9993-7e822eff90c7",
   "metadata": {},
   "outputs": [
    {
     "data": {
      "text/html": [
       "\n",
       "            <div>\n",
       "                <p><b>SparkSession - hive</b></p>\n",
       "                \n",
       "        <div>\n",
       "            <p><b>SparkContext</b></p>\n",
       "\n",
       "            <p><a href=\"http://18ec4ddcd740:4041\">Spark UI</a></p>\n",
       "\n",
       "            <dl>\n",
       "              <dt>Version</dt>\n",
       "                <dd><code>v3.4.1</code></dd>\n",
       "              <dt>Master</dt>\n",
       "                <dd><code>local[*]</code></dd>\n",
       "              <dt>AppName</dt>\n",
       "                <dd><code>Explore HudiLake</code></dd>\n",
       "            </dl>\n",
       "        </div>\n",
       "        \n",
       "            </div>\n",
       "        "
      ],
      "text/plain": [
       "<pyspark.sql.session.SparkSession at 0x7fb2b410e090>"
      ]
     },
     "execution_count": 1,
     "metadata": {},
     "output_type": "execute_result"
    }
   ],
   "source": [
    "from utils.session_builder import get_session_hudilake\n",
    "\n",
    "spark = get_session_hudilake(\"Explore HudiLake\")\n",
    "\n",
    "\n",
    "spark"
   ]
  },
  {
   "cell_type": "code",
   "execution_count": 2,
   "id": "8d3a1cbb-8c12-4159-82e2-0ecfd34ba669",
   "metadata": {},
   "outputs": [
    {
     "name": "stdout",
     "output_type": "stream",
     "text": [
      "+---------+\n",
      "|namespace|\n",
      "+---------+\n",
      "|   bronze|\n",
      "|  default|\n",
      "+---------+\n",
      "\n"
     ]
    }
   ],
   "source": [
    "spark.sql(\"show databases;\").show()"
   ]
  },
  {
   "cell_type": "code",
   "execution_count": 3,
   "id": "9a525854-bc0e-4c83-a187-6f8a6b0ae5b8",
   "metadata": {},
   "outputs": [],
   "source": [
    "\n",
    "data = [(1, \"aa\"), (2, \"bb\")]\n",
    "headers = [\"id\", \"name\"]\n",
    "\n",
    "df = spark.createDataFrame(data, headers)\n",
    "\n",
    "\n",
    "hudi_managed_options = {\n",
    "  \"hoodie.table.name\": \"hudi_mamaged_table\",\n",
    "  \"hoodie.datasource.write.operation\" : \"insert_overwrite\"\n",
    "}\n",
    "\n",
    "\n",
    "df.write.format(\"hudi\") \\\n",
    "  .options(**hudi_managed_options) \\\n",
    "  .mode(\"overwrite\")  \\\n",
    "  .saveAsTable('hudi_mamaged_table2')\n",
    "\n"
   ]
  },
  {
   "cell_type": "code",
   "execution_count": null,
   "id": "12a4e2a9-69d4-4674-a680-13c5f77c3cb5",
   "metadata": {},
   "outputs": [],
   "source": []
  }
 ],
 "metadata": {
  "kernelspec": {
   "display_name": "Python 3 (ipykernel)",
   "language": "python",
   "name": "python3"
  },
  "language_info": {
   "codemirror_mode": {
    "name": "ipython",
    "version": 3
   },
   "file_extension": ".py",
   "mimetype": "text/x-python",
   "name": "python",
   "nbconvert_exporter": "python",
   "pygments_lexer": "ipython3",
   "version": "3.11.5"
  }
 },
 "nbformat": 4,
 "nbformat_minor": 5
}

{
 "cells": [
  {
   "cell_type": "code",
   "execution_count": 1,
   "id": "9722caad-4693-4697-9aa4-ed434757017e",
   "metadata": {},
   "outputs": [],
   "source": [
    "from common.session import get_spark_session\n",
    "\n",
    "\n",
    "spark  = get_spark_session(\"04_purchases\")\n",
    "\n",
    "spark\n",
    "\n",
    "spark.conf.set(\"spark.default.parallelism\", 3)"
   ]
  },
  {
   "cell_type": "code",
   "execution_count": 2,
   "id": "c9900e8d-ed42-4176-bfe4-6a438f516852",
   "metadata": {},
   "outputs": [
    {
     "name": "stdout",
     "output_type": "stream",
     "text": [
      "+-------+-------+-------+\n",
      "|user_id|   name|country|\n",
      "+-------+-------+-------+\n",
      "|      1|  Alice|     US|\n",
      "|      2|    Bob|     UK|\n",
      "|      3|Charlie|     US|\n",
      "|      4|  Diana|     DE|\n",
      "+-------+-------+-------+\n",
      "\n",
      "+-----------+-------+------+-----------+-------------------+\n",
      "|purchase_id|user_id|amount|   category|                 ts|\n",
      "+-----------+-------+------+-----------+-------------------+\n",
      "|       1001|      1|  50.0|Electronics|2025-08-01 10:00:00|\n",
      "|       1002|      2|  20.0|      Books|2025-08-02 11:00:00|\n",
      "|       1003|      1|  70.0|      Books|2025-08-02 15:00:00|\n",
      "|       1004|      3| 100.0|Electronics|2025-08-03 09:30:00|\n",
      "|       1005|      4|  35.0|    Fashion|2025-08-03 12:00:00|\n",
      "|       1006|      2|  80.0|Electronics|2025-08-04 16:00:00|\n",
      "+-----------+-------+------+-----------+-------------------+\n",
      "\n"
     ]
    }
   ],
   "source": [
    "users_cols = [\"user_id\", \"name\", \"country\"]\n",
    "users_data = [(1, 'Alice'   , 'US')\n",
    "              ,(2, 'Bob'     , 'UK')\n",
    "              ,(3, 'Charlie' , 'US')\n",
    "              ,(4, 'Diana'   , 'DE')]\n",
    "\n",
    "df_users = spark.createDataFrame(users_data, users_cols)\n",
    "df_users.show()\n",
    "\n",
    "\n",
    "purchase_schema = 'purchase_id int, user_id int ,amount double, category string, ts string'\n",
    "purchase_data = [ (1001,1,50.0  ,'Electronics' ,'2025-08-01 10:00:00')\n",
    "                 ,(1002,2,20.0  ,'Books'       ,'2025-08-02 11:00:00')\n",
    "                 ,(1003,1,70.0  ,'Books'       ,'2025-08-02 15:00:00')\n",
    "                 ,(1004,3,100.0 ,'Electronics' ,'2025-08-03 09:30:00')\n",
    "                 ,(1005,4,35.0  ,'Fashion'     ,'2025-08-03 12:00:00')\n",
    "                 ,(1006,2,80.0  ,'Electronics','2025-08-04 16:00:00')]\n",
    "\n",
    "df_purch = spark.createDataFrame(purchase_data, purchase_schema)\n",
    "df_purch.show()\n"
   ]
  },
  {
   "cell_type": "code",
   "execution_count": 3,
   "id": "1898c595-7b47-4af4-995c-0a3b9bad67b1",
   "metadata": {},
   "outputs": [
    {
     "name": "stdout",
     "output_type": "stream",
     "text": [
      "+-------+-----+-----+----------+\n",
      "|country|total|  AOV|dist_users|\n",
      "+-------+-----+-----+----------+\n",
      "|     US|220.0|73.33|         2|\n",
      "|     UK|100.0|50.00|         1|\n",
      "|     DE| 35.0|35.00|         1|\n",
      "+-------+-----+-----+----------+\n",
      "\n",
      "+-------+-----------+---------------+-------------+\n",
      "|country|   category|category_amount|category_rank|\n",
      "+-------+-----------+---------------+-------------+\n",
      "|     DE|    Fashion|           35.0|            1|\n",
      "|     UK|Electronics|           80.0|            1|\n",
      "|     US|Electronics|          150.0|            1|\n",
      "+-------+-----------+---------------+-------------+\n",
      "\n",
      "+-------+-------+-----------+---------+\n",
      "|country|user_id|user_amount|user_rank|\n",
      "+-------+-------+-----------+---------+\n",
      "|     DE|      4|       35.0|        1|\n",
      "|     UK|      2|      100.0|        1|\n",
      "|     US|      1|      120.0|        1|\n",
      "+-------+-------+-----------+---------+\n",
      "\n"
     ]
    }
   ],
   "source": [
    "'''Tasks\n",
    "Join users with purchases to get user details with their transactions.\n",
    "For each country, compute:\n",
    "    Total revenue\n",
    "    Average order value (AOV)\n",
    "    Number of unique users who purchased\n",
    "    Find the top category per country by total spend.\n",
    "    Get the most valuable user (highest total spend) per country.\n",
    "'''\n",
    "from pyspark.sql.functions import sum, avg, countDistinct, format_number, col, row_number\n",
    "from pyspark.sql.window import Window\n",
    "\n",
    "df_country_purch = df_users.join(df_purch, \"user_id\")\n",
    "\n",
    "df_country_purch.cache()\n",
    "df_country_purch.count()\n",
    "\n",
    "# country stats\n",
    "df_country_Stats = df_country_purch.groupBy(\"country\").agg(\n",
    "    sum('amount').alias('total'),\n",
    "    avg('amount').alias('AOV'),\n",
    "    countDistinct('user_id').alias('dist_users')\n",
    ").withColumn('AOV', format_number('AOV', 2))\n",
    "\n",
    "\n",
    "# top category by country\n",
    "df_by_country_category = df_country_purch.groupBy(['country', 'category']).agg(sum('amount').alias('category_amount'))\n",
    "category_widnow = Window.partitionBy('country').orderBy(col('category_amount').desc())\n",
    "df_by_country_category = df_by_country_category.withColumn('category_rank', row_number().over(category_widnow)).where('category_rank = 1')\n",
    "\n",
    "\n",
    "# top user per country\n",
    "df_by_country_by_user = df_country_purch.groupBy(['country', 'user_id']).agg(sum('amount').alias('user_amount'))\n",
    "category_widnow = Window.partitionBy('country').orderBy(col('user_amount').desc())\n",
    "df_by_country_by_user = df_by_country_by_user.withColumn('user_rank', row_number().over(category_widnow)).where('user_rank = 1')\n",
    "\n",
    "df_country_Stats.show()\n",
    "df_by_country_category.show()\n",
    "df_by_country_by_user.show()"
   ]
  },
  {
   "cell_type": "code",
   "execution_count": null,
   "id": "e6b4895c-3bbe-41b4-94b5-e25a5896a502",
   "metadata": {},
   "outputs": [],
   "source": []
  }
 ],
 "metadata": {
  "kernelspec": {
   "display_name": "Python 3 (ipykernel)",
   "language": "python",
   "name": "python3"
  },
  "language_info": {
   "codemirror_mode": {
    "name": "ipython",
    "version": 3
   },
   "file_extension": ".py",
   "mimetype": "text/x-python",
   "name": "python",
   "nbconvert_exporter": "python",
   "pygments_lexer": "ipython3",
   "version": "3.11.5"
  }
 },
 "nbformat": 4,
 "nbformat_minor": 5
}

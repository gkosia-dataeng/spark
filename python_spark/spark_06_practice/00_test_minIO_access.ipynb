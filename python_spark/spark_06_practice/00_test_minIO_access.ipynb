{
 "cells": [
  {
   "cell_type": "code",
   "execution_count": 2,
   "id": "d4521193-77cb-4014-b2f7-c572a2b9008a",
   "metadata": {},
   "outputs": [],
   "source": [
    "from common.session import get_spark_session, connect_to_minIO\n",
    "\n",
    "spark = get_spark_session(\"00_test_minIO_access\")\n",
    "connect_to_minIO(spark)"
   ]
  },
  {
   "cell_type": "code",
   "execution_count": 9,
   "id": "614d7df4-617c-4f4b-8e8d-88f3d4cc8e55",
   "metadata": {},
   "outputs": [
    {
     "name": "stdout",
     "output_type": "stream",
     "text": [
      "+---+----+\n",
      "| id|name|\n",
      "+---+----+\n",
      "|  1| Gab|\n",
      "+---+----+\n",
      "\n"
     ]
    }
   ],
   "source": [
    "'''\n",
    "    .csv(path, ...)\n",
    "    .json(path, ...)\n",
    "    .parquet(path, ...)\n",
    "    .format(fmt).load(path)\n",
    "'''\n",
    "\n",
    "df = spark.read.format('csv').option(\"inferSchema\", \"true\").option(\"header\", \"true\").load(\"s3a://source-zone/TEST.csv\")\n",
    "df.show()"
   ]
  },
  {
   "cell_type": "code",
   "execution_count": null,
   "id": "1d31623b-8bae-4676-bcd3-4bf44b72b92e",
   "metadata": {},
   "outputs": [],
   "source": []
  }
 ],
 "metadata": {
  "kernelspec": {
   "display_name": "Python 3 (ipykernel)",
   "language": "python",
   "name": "python3"
  },
  "language_info": {
   "codemirror_mode": {
    "name": "ipython",
    "version": 3
   },
   "file_extension": ".py",
   "mimetype": "text/x-python",
   "name": "python",
   "nbconvert_exporter": "python",
   "pygments_lexer": "ipython3",
   "version": "3.11.5"
  }
 },
 "nbformat": 4,
 "nbformat_minor": 5
}

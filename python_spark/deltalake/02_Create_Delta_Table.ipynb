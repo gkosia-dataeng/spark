{
 "cells": [
  {
   "cell_type": "code",
   "execution_count": null,
   "id": "986de240-efae-4e05-83bd-267661352972",
   "metadata": {},
   "outputs": [],
   "source": [
    "from lib.session_builder import get_session_on_local\n",
    "\n",
    "spark = get_session_on_local(\"Explore DeltaLake\")\n",
    "\n",
    "spark"
   ]
  },
  {
   "cell_type": "code",
   "execution_count": null,
   "id": "8b97c643-7422-45a2-a372-991929ceddf7",
   "metadata": {},
   "outputs": [],
   "source": [
    "spark.sql(\"use gold;\")"
   ]
  },
  {
   "cell_type": "code",
   "execution_count": null,
   "id": "2ddec6dd-993d-48a4-940b-316439a503aa",
   "metadata": {},
   "outputs": [],
   "source": [
    "data = ([1,\"A\"], [2,\"B\"], [3,\"C\"], [4,\"D\"],)\n",
    "col = [\"Id\", \"Name\"]\n",
    "\n",
    "df = spark.createDataFrame(data, col)\n",
    "\n",
    "df.show()"
   ]
  },
  {
   "cell_type": "markdown",
   "id": "9a189629-9c46-45f3-ba2c-07d47c39a58f",
   "metadata": {},
   "source": [
    "**** CREATE MANAGED DELTA TABLE"
   ]
  },
  {
   "cell_type": "code",
   "execution_count": null,
   "id": "5f2b87e4-e374-4a77-a950-6bca419409ca",
   "metadata": {},
   "outputs": [],
   "source": [
    "# create managed table from python\n",
    "df.write.format(\"delta\").mode(\"overwrite\").saveAsTable(\"managed_delta_python\")\n",
    "\n",
    "# create managed table from sql Create table and then insert rows\n",
    "spark.sql(\"CREATE TABLE if not exists managed_delta_sql_1(Id int,name string) USING DELTA\")\n",
    "df.createOrReplaceTempView(\"df_temp\")\n",
    "spark.sql(\"INSERT INTO managed_delta_sql_1 SELECT * FROM df_temp\")\n",
    "\n",
    "# create managed table from sql CTAS\n",
    "spark.sql(\"CREATE TABLE if not exists managed_delta_sql_2 USING DELTA AS SELECT * FROM df_temp\")\n"
   ]
  },
  {
   "cell_type": "code",
   "execution_count": null,
   "id": "1ada6d8b-cc30-4280-8462-bca2cb707423",
   "metadata": {},
   "outputs": [],
   "source": [
    "**** CREATE UNMANAGED DELTA TABLE"
   ]
  },
  {
   "cell_type": "code",
   "execution_count": null,
   "id": "0ad61ac6-335e-4c1d-9819-06e1b3a1f622",
   "metadata": {},
   "outputs": [],
   "source": [
    "# create UNmanaged table from python\n",
    "df.write.format(\"delta\").mode(\"overwrite\").save(\"/warehouse/gold.db/unmanaged_delta_python\")\n",
    "\n",
    "# create UNmanaged table from sql\n",
    "spark.sql(\"CREATE TABLE IF NOT EXISTS unmanaged_delta_sql USING DELTA LOCATION '/warehouse/gold.db/unmanaged_delta_sql' AS SELECT * FROM df_temp \")"
   ]
  },
  {
   "cell_type": "code",
   "execution_count": null,
   "id": "d6f2933a-699f-4ed4-97a1-861afd5c677c",
   "metadata": {},
   "outputs": [],
   "source": [
    "# update table\n",
    "spark.sql(\"UPDATE gold.managed_delta_python SET name = 'Gab' where id = 1\")"
   ]
  },
  {
   "cell_type": "code",
   "execution_count": null,
   "id": "cc1f1b07-5c82-4050-ae76-84bb7c20ca17",
   "metadata": {},
   "outputs": [],
   "source": []
  }
 ],
 "metadata": {
  "kernelspec": {
   "display_name": "Python 3 (ipykernel)",
   "language": "python",
   "name": "python3"
  },
  "language_info": {
   "codemirror_mode": {
    "name": "ipython",
    "version": 3
   },
   "file_extension": ".py",
   "mimetype": "text/x-python",
   "name": "python",
   "nbconvert_exporter": "python",
   "pygments_lexer": "ipython3",
   "version": "3.11.5"
  }
 },
 "nbformat": 4,
 "nbformat_minor": 5
}

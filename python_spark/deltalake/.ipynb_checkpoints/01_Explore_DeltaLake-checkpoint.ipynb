{
 "cells": [
  {
   "cell_type": "code",
   "execution_count": 1,
   "id": "3a8cc3be-b4a7-4ee6-901e-fd19059086bc",
   "metadata": {},
   "outputs": [
    {
     "data": {
      "text/html": [
       "\n",
       "            <div>\n",
       "                <p><b>SparkSession - hive</b></p>\n",
       "                \n",
       "        <div>\n",
       "            <p><b>SparkContext</b></p>\n",
       "\n",
       "            <p><a href=\"http://d31c2779d459:4041\">Spark UI</a></p>\n",
       "\n",
       "            <dl>\n",
       "              <dt>Version</dt>\n",
       "                <dd><code>v3.4.1</code></dd>\n",
       "              <dt>Master</dt>\n",
       "                <dd><code>local[*]</code></dd>\n",
       "              <dt>AppName</dt>\n",
       "                <dd><code>pyspark-shell</code></dd>\n",
       "            </dl>\n",
       "        </div>\n",
       "        \n",
       "            </div>\n",
       "        "
      ],
      "text/plain": [
       "<pyspark.sql.session.SparkSession at 0x7f02227b33d0>"
      ]
     },
     "execution_count": 1,
     "metadata": {},
     "output_type": "execute_result"
    }
   ],
   "source": [
    "from lib.session_builder import get_session_on_local\n",
    "\n",
    "spark = get_session_on_local(\"Explore DeltaLake\")\n",
    "\n",
    "spark"
   ]
  },
  {
   "cell_type": "code",
   "execution_count": 2,
   "id": "385205c7-ed51-4aac-80a2-6ba3936170a0",
   "metadata": {},
   "outputs": [
    {
     "name": "stdout",
     "output_type": "stream",
     "text": [
      "+---------+\n",
      "|namespace|\n",
      "+---------+\n",
      "|  default|\n",
      "|     gold|\n",
      "+---------+\n",
      "\n"
     ]
    }
   ],
   "source": [
    "# which databases\n",
    "spark.sql(\"show databases;\").show()"
   ]
  },
  {
   "cell_type": "code",
   "execution_count": 3,
   "id": "e31f4b8a-021a-4cce-ac2c-4db165987fcb",
   "metadata": {},
   "outputs": [
    {
     "name": "stdout",
     "output_type": "stream",
     "text": [
      "+--------------+---------------------------------+\n",
      "|info_name     |info_value                       |\n",
      "+--------------+---------------------------------+\n",
      "|Catalog Name  |spark_catalog                    |\n",
      "|Namespace Name|gold                             |\n",
      "|Comment       |                                 |\n",
      "|Location      |s3a://lakehouse/warehouse/gold.db|\n",
      "|Owner         |jovyan                           |\n",
      "|Properties    |                                 |\n",
      "+--------------+---------------------------------+\n",
      "\n"
     ]
    }
   ],
   "source": [
    "# database info\n",
    "spark.sql(\"describe DATABASE  EXTENDED gold;\").show(truncate=False)"
   ]
  },
  {
   "cell_type": "code",
   "execution_count": 4,
   "id": "8e28eb38-46a2-41c3-b229-81dd1ea2403f",
   "metadata": {},
   "outputs": [
    {
     "data": {
      "text/plain": [
       "DataFrame[]"
      ]
     },
     "execution_count": 4,
     "metadata": {},
     "output_type": "execute_result"
    }
   ],
   "source": [
    "# switch to database\n",
    "spark.sql(\"use gold;\")"
   ]
  },
  {
   "cell_type": "code",
   "execution_count": 6,
   "id": "ece7d770-e653-4dc0-abb5-15a8d2ea33f5",
   "metadata": {},
   "outputs": [
    {
     "name": "stdout",
     "output_type": "stream",
     "text": [
      "+---------+---------+-----------+\n",
      "|namespace|tableName|isTemporary|\n",
      "+---------+---------+-----------+\n",
      "+---------+---------+-----------+\n",
      "\n"
     ]
    }
   ],
   "source": [
    "# show tables \n",
    "spark.sql(\"show tables;\").show()"
   ]
  }
 ],
 "metadata": {
  "kernelspec": {
   "display_name": "Python 3 (ipykernel)",
   "language": "python",
   "name": "python3"
  },
  "language_info": {
   "codemirror_mode": {
    "name": "ipython",
    "version": 3
   },
   "file_extension": ".py",
   "mimetype": "text/x-python",
   "name": "python",
   "nbconvert_exporter": "python",
   "pygments_lexer": "ipython3",
   "version": "3.11.5"
  }
 },
 "nbformat": 4,
 "nbformat_minor": 5
}
